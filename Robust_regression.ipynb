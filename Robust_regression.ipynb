{
 "cells": [
  {
   "cell_type": "markdown",
   "metadata": {},
   "source": [
    "# Robust Regression"
   ]
  },
  {
   "cell_type": "markdown",
   "metadata": {},
   "source": [
    "Robust regression is an alternative to least squares regression when data are contaminated with outliers or influential observations, and it can also be used for he purpose of detecting influential observations. It can be used in any case in which least square regression can be applied.\n",
    "\n",
    "We consider the linear model\n",
    "\n",
    "\\begin{align}\n",
    "y^{(i)} & = \\alpha + \\beta_1 x_1^{(i)} + \\beta_2 x_2^{(i)}+ \\cdots + \\beta_k x_k^{(i)} + \\epsilon^{(i)} \\\\\n",
    "        &=\\mathbf{x}^{(i)}\\cdot\\beta\n",
    "\\end{align}\n",
    "\n",
    "where $\\beta=(\\alpha,\\beta_1,\\dots,\\beta_k)$ and $ \\mathbf{x}^{(i)}=(1,x_1^{(i)},\\dots,x_k^{(i)}) $ for $i = 1,\\cdots,$ and $n$ is the number of observations.\n",
    "\n",
    "The fitted model is\n",
    "\n",
    "\\begin{align}\n",
    "\\hat{y}^{(i)} & = a + b_1 x_1^{(i)} + b_2 x_2^{(i)}+ \\cdots + b_k x_k^{(i)} + e^{(i)} \\\\\n",
    "        &=\\mathbf{x}^{(i)}\\cdot b\n",
    "\\end{align}\n",
    "\n",
    "where $b$ is an estimator for $\\beta$.\n",
    "\n",
    "The residuals are given by\n",
    "\n",
    "$$ e^{(i)} = y^{(i)}-\\hat{y}^{(i)}$$\n",
    "\n",
    "$M$-estimations are a generalization of maximum likelihodd estimators (*MLE*). With $M$-estimation, the estimates $b$ are determined by minimizing an objective function $\\rho$ over all $b$ such that \n",
    "\n",
    "$$\\sum_{i=1}^{n} \\rho(e^{(i)})= \\sum_{i=1}^{n}\\rho(y^{(i)}-\\mathbf{x}^{(i)}\\cdot b)$$\n",
    "\n",
    "where $\\rho$ have the following properties.\n",
    " - $\\rho(e)\\geq 0$ and $\\rho(0)=0 $ (*nonnegative*)\n",
    " - $\\rho(e)=\\rho(-e)$ (*symmetric*)\n",
    " - $\\rho(e)>\\rho(e')$ for $|e|)>|e'|)$  (monotone in $|e|$)\n",
    " \n",
    "We want to find the estimators $b$ such that\n",
    "\n",
    "$$\\underset{b}{argmin} \\sum_{i=1}^{n}\\rho(y^{(i)}-\\mathbf{x}^{(i)}\\cdot b)$$\n",
    "\n",
    "Define a function $\\psi:\\rho'$ where $\\rho'$ is the derivative of $\\rho$.\n",
    "\n",
    "After taking derivative of the objective function, equal to 0, we obtain\n",
    "\n",
    "\\begin{align}\n",
    "0 = & \\sum_{i=1}^{n}\\rho'(y^{(i)}-\\mathbf{x}^{(i)}\\cdot b)\\mathbf{x}^{(i)} \\\\\n",
    "  = & \\sum_{i=1}^{n}\\psi(y^{(i)}-\\mathbf{x}^{(i)}\\cdot b)\\mathbf{x}^{(i)}\n",
    "\\end{align}\n",
    "\n",
    "Define the weight function $w(e)=\\psi(e)/e $ and $ w^{(i)}=w(e^{i})$. Substitute into the above equation\n",
    "$$ \\sum \\underbrace{w(y^{(i)}-\\mathbf{x}^{(i)}\\cdot b)}_{w_i} (y^{(i)}-\\mathbf{x}^{(i)}\\cdot b)\\mathbf{x}^{(i)}=0$$\n",
    "$$ \\sum w_i (y^{(i)}-\\mathbf{x}^{(i)}\\cdot b)\\mathbf{x}^{(i)}=0$$\n",
    "\n",
    "With iteratively reweighted least squares, *IRLS*\n",
    " - Choose initial estimates $ b^{(0)} $ such as the least squares estimates\n",
    " - At each iteration $j$, calculate the residual $e^{(j-1)}$ and associated weights $w^{(j-1)}$\n",
    " - Solve for new weighted least squares estimates\n",
    " $$ b^{(j)}=[X'W^{(j-1)}X]^{-1}X'W^{(j-1)}Y$$\n",
    "\n",
    "where $X$ is the model matrix with $\\mathbf{x}^{(i)}$ as $i$th row, and $W^{(j-1)}=diag{w^{(j-1)}}$.\n",
    "Repeat till the estimates coefficients converge.\n"
   ]
  },
  {
   "cell_type": "markdown",
   "metadata": {},
   "source": [
    "# Implementation in R\n",
    "\n",
    "\n",
    "Robust regression can be perform using the *rlm()* function in *MASS* package. The outliers can be weighted down differently based on *huber*, *bi-square* and *hampel's* method.  "
   ]
  },
  {
   "cell_type": "code",
   "execution_count": 24,
   "metadata": {},
   "outputs": [],
   "source": [
    "#loading the packages \n",
    "require(foreign)\n",
    "require(MASS)"
   ]
  },
  {
   "cell_type": "markdown",
   "metadata": {},
   "source": [
    "# Description of the Dataset\n",
    "We will use the crime dataset from *Statistical Methods for Social Sciences, Third Edition, Alan Agresti and Barbara Finlay (Prentice Hall, 1997)*\n",
    "\n",
    "**sid**: state id\n",
    "\n",
    "**state** : state name\n",
    "\n",
    "**crime** : violent crimes per 100,000 people\n",
    "\n",
    "**murder** : murder per 1,000,000\n",
    "\n",
    "**pctmetro** : the percent of the population living in metropolitan areas\n",
    "\n",
    "**pctwhite** : the percent of the population that is white\n",
    "\n",
    "**pcths** : the percent of population with a high school education or above\n",
    "\n",
    "**poverty** : the percent of population living under poverty line \n",
    "\n",
    "**single** : the percent of population that are single parents"
   ]
  },
  {
   "cell_type": "code",
   "execution_count": 50,
   "metadata": {},
   "outputs": [
    {
     "data": {
      "text/html": [
       "<table>\n",
       "<thead><tr><th scope=col>sid</th><th scope=col>state</th><th scope=col>crime</th><th scope=col>murder</th><th scope=col>pctmetro</th><th scope=col>pctwhite</th><th scope=col>pcths</th><th scope=col>poverty</th><th scope=col>single</th></tr></thead>\n",
       "<tbody>\n",
       "\t<tr><td> 1  </td><td>ak  </td><td> 761</td><td> 9.0</td><td>41.8</td><td>75.2</td><td>86.6</td><td> 9.1</td><td>14.3</td></tr>\n",
       "\t<tr><td> 2  </td><td>al  </td><td> 780</td><td>11.6</td><td>67.4</td><td>73.5</td><td>66.9</td><td>17.4</td><td>11.5</td></tr>\n",
       "\t<tr><td> 3  </td><td>ar  </td><td> 593</td><td>10.2</td><td>44.7</td><td>82.9</td><td>66.3</td><td>20.0</td><td>10.7</td></tr>\n",
       "\t<tr><td> 4  </td><td>az  </td><td> 715</td><td> 8.6</td><td>84.7</td><td>88.6</td><td>78.7</td><td>15.4</td><td>12.1</td></tr>\n",
       "\t<tr><td> 5  </td><td>ca  </td><td>1078</td><td>13.1</td><td>96.7</td><td>79.3</td><td>76.2</td><td>18.2</td><td>12.5</td></tr>\n",
       "\t<tr><td> 6  </td><td>co  </td><td> 567</td><td> 5.8</td><td>81.8</td><td>92.5</td><td>84.4</td><td> 9.9</td><td>12.1</td></tr>\n",
       "\t<tr><td> 7  </td><td>ct  </td><td> 456</td><td> 6.3</td><td>95.7</td><td>89.0</td><td>79.2</td><td> 8.5</td><td>10.1</td></tr>\n",
       "\t<tr><td> 8  </td><td>de  </td><td> 686</td><td> 5.0</td><td>82.7</td><td>79.4</td><td>77.5</td><td>10.2</td><td>11.4</td></tr>\n",
       "\t<tr><td> 9  </td><td>fl  </td><td>1206</td><td> 8.9</td><td>93.0</td><td>83.5</td><td>74.4</td><td>17.8</td><td>10.6</td></tr>\n",
       "\t<tr><td>10  </td><td>ga  </td><td> 723</td><td>11.4</td><td>67.7</td><td>70.8</td><td>70.9</td><td>13.5</td><td>13.0</td></tr>\n",
       "</tbody>\n",
       "</table>\n"
      ],
      "text/latex": [
       "\\begin{tabular}{r|lllllllll}\n",
       " sid & state & crime & murder & pctmetro & pctwhite & pcths & poverty & single\\\\\n",
       "\\hline\n",
       "\t  1   & ak   &  761 &  9.0 & 41.8 & 75.2 & 86.6 &  9.1 & 14.3\\\\\n",
       "\t  2   & al   &  780 & 11.6 & 67.4 & 73.5 & 66.9 & 17.4 & 11.5\\\\\n",
       "\t  3   & ar   &  593 & 10.2 & 44.7 & 82.9 & 66.3 & 20.0 & 10.7\\\\\n",
       "\t  4   & az   &  715 &  8.6 & 84.7 & 88.6 & 78.7 & 15.4 & 12.1\\\\\n",
       "\t  5   & ca   & 1078 & 13.1 & 96.7 & 79.3 & 76.2 & 18.2 & 12.5\\\\\n",
       "\t  6   & co   &  567 &  5.8 & 81.8 & 92.5 & 84.4 &  9.9 & 12.1\\\\\n",
       "\t  7   & ct   &  456 &  6.3 & 95.7 & 89.0 & 79.2 &  8.5 & 10.1\\\\\n",
       "\t  8   & de   &  686 &  5.0 & 82.7 & 79.4 & 77.5 & 10.2 & 11.4\\\\\n",
       "\t  9   & fl   & 1206 &  8.9 & 93.0 & 83.5 & 74.4 & 17.8 & 10.6\\\\\n",
       "\t 10   & ga   &  723 & 11.4 & 67.7 & 70.8 & 70.9 & 13.5 & 13.0\\\\\n",
       "\\end{tabular}\n"
      ],
      "text/markdown": [
       "\n",
       "sid | state | crime | murder | pctmetro | pctwhite | pcths | poverty | single | \n",
       "|---|---|---|---|---|---|---|---|---|---|\n",
       "|  1   | ak   |  761 |  9.0 | 41.8 | 75.2 | 86.6 |  9.1 | 14.3 | \n",
       "|  2   | al   |  780 | 11.6 | 67.4 | 73.5 | 66.9 | 17.4 | 11.5 | \n",
       "|  3   | ar   |  593 | 10.2 | 44.7 | 82.9 | 66.3 | 20.0 | 10.7 | \n",
       "|  4   | az   |  715 |  8.6 | 84.7 | 88.6 | 78.7 | 15.4 | 12.1 | \n",
       "|  5   | ca   | 1078 | 13.1 | 96.7 | 79.3 | 76.2 | 18.2 | 12.5 | \n",
       "|  6   | co   |  567 |  5.8 | 81.8 | 92.5 | 84.4 |  9.9 | 12.1 | \n",
       "|  7   | ct   |  456 |  6.3 | 95.7 | 89.0 | 79.2 |  8.5 | 10.1 | \n",
       "|  8   | de   |  686 |  5.0 | 82.7 | 79.4 | 77.5 | 10.2 | 11.4 | \n",
       "|  9   | fl   | 1206 |  8.9 | 93.0 | 83.5 | 74.4 | 17.8 | 10.6 | \n",
       "| 10   | ga   |  723 | 11.4 | 67.7 | 70.8 | 70.9 | 13.5 | 13.0 | \n",
       "\n",
       "\n"
      ],
      "text/plain": [
       "   sid state crime murder pctmetro pctwhite pcths poverty single\n",
       "1   1  ak     761   9.0   41.8     75.2     86.6   9.1    14.3  \n",
       "2   2  al     780  11.6   67.4     73.5     66.9  17.4    11.5  \n",
       "3   3  ar     593  10.2   44.7     82.9     66.3  20.0    10.7  \n",
       "4   4  az     715   8.6   84.7     88.6     78.7  15.4    12.1  \n",
       "5   5  ca    1078  13.1   96.7     79.3     76.2  18.2    12.5  \n",
       "6   6  co     567   5.8   81.8     92.5     84.4   9.9    12.1  \n",
       "7   7  ct     456   6.3   95.7     89.0     79.2   8.5    10.1  \n",
       "8   8  de     686   5.0   82.7     79.4     77.5  10.2    11.4  \n",
       "9   9  fl    1206   8.9   93.0     83.5     74.4  17.8    10.6  \n",
       "10 10  ga     723  11.4   67.7     70.8     70.9  13.5    13.0  "
      ]
     },
     "metadata": {},
     "output_type": "display_data"
    },
    {
     "data": {
      "text/plain": [
       "      sid          state               crime            murder      \n",
       " Min.   : 1.0   Length:51          Min.   :  82.0   Min.   : 1.600  \n",
       " 1st Qu.:13.5   Class :character   1st Qu.: 326.5   1st Qu.: 3.900  \n",
       " Median :26.0   Mode  :character   Median : 515.0   Median : 6.800  \n",
       " Mean   :26.0                      Mean   : 612.8   Mean   : 8.727  \n",
       " 3rd Qu.:38.5                      3rd Qu.: 773.0   3rd Qu.:10.350  \n",
       " Max.   :51.0                      Max.   :2922.0   Max.   :78.500  \n",
       "    pctmetro         pctwhite         pcths          poverty     \n",
       " Min.   : 24.00   Min.   :31.80   Min.   :64.30   Min.   : 8.00  \n",
       " 1st Qu.: 49.55   1st Qu.:79.35   1st Qu.:73.50   1st Qu.:10.70  \n",
       " Median : 69.80   Median :87.60   Median :76.70   Median :13.10  \n",
       " Mean   : 67.39   Mean   :84.12   Mean   :76.22   Mean   :14.26  \n",
       " 3rd Qu.: 83.95   3rd Qu.:92.60   3rd Qu.:80.10   3rd Qu.:17.40  \n",
       " Max.   :100.00   Max.   :98.50   Max.   :86.60   Max.   :26.40  \n",
       "     single     \n",
       " Min.   : 8.40  \n",
       " 1st Qu.:10.05  \n",
       " Median :10.90  \n",
       " Mean   :11.33  \n",
       " 3rd Qu.:12.05  \n",
       " Max.   :22.10  "
      ]
     },
     "metadata": {},
     "output_type": "display_data"
    }
   ],
   "source": [
    "#load the data as cdata\n",
    "cdata <- read.dta(\"https://stats.idre.ucla.edu/stat/data/crime.dta\")\n",
    "cdata[1:10, ] # first ten observations\n",
    "summary(cdata)"
   ]
  },
  {
   "cell_type": "code",
   "execution_count": 51,
   "metadata": {},
   "outputs": [
    {
     "data": {
      "text/plain": [
       "\n",
       "Call:\n",
       "lm(formula = crime ~ poverty + single, data = cdata)\n",
       "\n",
       "Residuals:\n",
       "    Min      1Q  Median      3Q     Max \n",
       "-811.14 -114.27  -22.44  121.86  689.82 \n",
       "\n",
       "Coefficients:\n",
       "             Estimate Std. Error t value Pr(>|t|)    \n",
       "(Intercept) -1368.189    187.205  -7.308 2.48e-09 ***\n",
       "poverty         6.787      8.989   0.755    0.454    \n",
       "single        166.373     19.423   8.566 3.12e-11 ***\n",
       "---\n",
       "Signif. codes:  0 '***' 0.001 '**' 0.01 '*' 0.05 '.' 0.1 ' ' 1\n",
       "\n",
       "Residual standard error: 243.6 on 48 degrees of freedom\n",
       "Multiple R-squared:  0.7072,\tAdjusted R-squared:  0.695 \n",
       "F-statistic: 57.96 on 2 and 48 DF,  p-value: 1.578e-13\n"
      ]
     },
     "metadata": {},
     "output_type": "display_data"
    }
   ],
   "source": [
    "#We are goning to use *poverty* and *single* to predict *crime*\n",
    "#To determine the outliers in the dataset, firstly we start by running least square regression\n",
    "summary(ols <- lm(crime ~ poverty + single, data=cdata))\n"
   ]
  },
  {
   "cell_type": "code",
   "execution_count": 52,
   "metadata": {},
   "outputs": [
    {
     "data": {
      "image/png": "[encoded data removed]",
      "text/plain": [
       "Plot with title \"\""
      ]
     },
     "metadata": {},
     "output_type": "display_data"
    }
   ],
   "source": [
    "opar <- par(mfrow = c(2,2), oma=c(0,0,1.1,0)) # grafikleri 2ye 2 lik matrix şeklinde gösterdi. oma is lm(crime....) başlığını yazdı\n",
    "plot(ols, las=1)"
   ]
  },
  {
   "cell_type": "code",
   "execution_count": 53,
   "metadata": {},
   "outputs": [
    {
     "data": {
      "text/html": [
       "<table>\n",
       "<thead><tr><th></th><th scope=col>sid</th><th scope=col>state</th></tr></thead>\n",
       "<tbody>\n",
       "\t<tr><th scope=row>9</th><td> 9</td><td>fl</td></tr>\n",
       "\t<tr><th scope=row>25</th><td>25</td><td>ms</td></tr>\n",
       "\t<tr><th scope=row>51</th><td>51</td><td>dc</td></tr>\n",
       "</tbody>\n",
       "</table>\n"
      ],
      "text/latex": [
       "\\begin{tabular}{r|ll}\n",
       "  & sid & state\\\\\n",
       "\\hline\n",
       "\t9 &  9 & fl\\\\\n",
       "\t25 & 25 & ms\\\\\n",
       "\t51 & 51 & dc\\\\\n",
       "\\end{tabular}\n"
      ],
      "text/markdown": [
       "\n",
       "| <!--/--> | sid | state | \n",
       "|---|---|---|\n",
       "| 9 |  9 | fl | \n",
       "| 25 | 25 | ms | \n",
       "| 51 | 51 | dc | \n",
       "\n",
       "\n"
      ],
      "text/plain": [
       "   sid state\n",
       "9   9  fl   \n",
       "25 25  ms   \n",
       "51 51  dc   "
      ]
     },
     "metadata": {},
     "output_type": "display_data"
    }
   ],
   "source": [
    "# 9 25 ve 51 inci gözlemler  uzakta kalmışlar.\n",
    "#data[row , columns] yazarak istenilen değerleri verisetinden çekiyorsun.\n",
    "cdata[c(9, 25, 51), 1:2]"
   ]
  },
  {
   "cell_type": "markdown",
   "metadata": {},
   "source": [
    "Dc, fl and ms have either high leverage or larger residuals. We will find the Cook's distance"
   ]
  },
  {
   "cell_type": "code",
   "execution_count": 36,
   "metadata": {},
   "outputs": [
    {
     "data": {
      "text/html": [
       "<table>\n",
       "<thead><tr><th></th><th scope=col>sid</th><th scope=col>state</th><th scope=col>crime</th><th scope=col>murder</th><th scope=col>pctmetro</th><th scope=col>pctwhite</th><th scope=col>pcths</th><th scope=col>poverty</th><th scope=col>single</th><th scope=col>d1</th><th scope=col>r</th></tr></thead>\n",
       "<tbody>\n",
       "\t<tr><th scope=row>1</th><td> 1       </td><td>ak       </td><td> 761     </td><td> 9.0     </td><td> 41.8    </td><td>75.2     </td><td>86.6     </td><td> 9.1     </td><td>14.3     </td><td>0.1254750</td><td>-1.397418</td></tr>\n",
       "\t<tr><th scope=row>9</th><td> 9       </td><td>fl       </td><td>1206     </td><td> 8.9     </td><td> 93.0    </td><td>83.5     </td><td>74.4     </td><td>17.8     </td><td>10.6     </td><td>0.1425891</td><td> 2.902663</td></tr>\n",
       "\t<tr><th scope=row>25</th><td>25       </td><td>ms       </td><td> 434     </td><td>13.5     </td><td> 30.7    </td><td>63.3     </td><td>64.3     </td><td>24.7     </td><td>14.7     </td><td>0.6138721</td><td>-3.562990</td></tr>\n",
       "\t<tr><th scope=row>51</th><td>51       </td><td>dc       </td><td>2922     </td><td>78.5     </td><td>100.0    </td><td>31.8     </td><td>73.1     </td><td>26.4     </td><td>22.1     </td><td>2.6362519</td><td> 2.616447</td></tr>\n",
       "</tbody>\n",
       "</table>\n"
      ],
      "text/latex": [
       "\\begin{tabular}{r|lllllllllll}\n",
       "  & sid & state & crime & murder & pctmetro & pctwhite & pcths & poverty & single & d1 & r\\\\\n",
       "\\hline\n",
       "\t1 &  1        & ak        &  761      &  9.0      &  41.8     & 75.2      & 86.6      &  9.1      & 14.3      & 0.1254750 & -1.397418\\\\\n",
       "\t9 &  9        & fl        & 1206      &  8.9      &  93.0     & 83.5      & 74.4      & 17.8      & 10.6      & 0.1425891 &  2.902663\\\\\n",
       "\t25 & 25        & ms        &  434      & 13.5      &  30.7     & 63.3      & 64.3      & 24.7      & 14.7      & 0.6138721 & -3.562990\\\\\n",
       "\t51 & 51        & dc        & 2922      & 78.5      & 100.0     & 31.8      & 73.1      & 26.4      & 22.1      & 2.6362519 &  2.616447\\\\\n",
       "\\end{tabular}\n"
      ],
      "text/markdown": [
       "\n",
       "| <!--/--> | sid | state | crime | murder | pctmetro | pctwhite | pcths | poverty | single | d1 | r | \n",
       "|---|---|---|---|\n",
       "| 1 |  1        | ak        |  761      |  9.0      |  41.8     | 75.2      | 86.6      |  9.1      | 14.3      | 0.1254750 | -1.397418 | \n",
       "| 9 |  9        | fl        | 1206      |  8.9      |  93.0     | 83.5      | 74.4      | 17.8      | 10.6      | 0.1425891 |  2.902663 | \n",
       "| 25 | 25        | ms        |  434      | 13.5      |  30.7     | 63.3      | 64.3      | 24.7      | 14.7      | 0.6138721 | -3.562990 | \n",
       "| 51 | 51        | dc        | 2922      | 78.5      | 100.0     | 31.8      | 73.1      | 26.4      | 22.1      | 2.6362519 |  2.616447 | \n",
       "\n",
       "\n"
      ],
      "text/plain": [
       "   sid state crime murder pctmetro pctwhite pcths poverty single d1       \n",
       "1   1  ak     761   9.0    41.8    75.2     86.6   9.1    14.3   0.1254750\n",
       "9   9  fl    1206   8.9    93.0    83.5     74.4  17.8    10.6   0.1425891\n",
       "25 25  ms     434  13.5    30.7    63.3     64.3  24.7    14.7   0.6138721\n",
       "51 51  dc    2922  78.5   100.0    31.8     73.1  26.4    22.1   2.6362519\n",
       "   r        \n",
       "1  -1.397418\n",
       "9   2.902663\n",
       "25 -3.562990\n",
       "51  2.616447"
      ]
     },
     "metadata": {},
     "output_type": "display_data"
    }
   ],
   "source": [
    "d1 <- cooks.distance(ols)\n",
    "r <- stdres(ols) # the standardized residuals\n",
    "a <- cbind(cdata, d1, r)\n",
    "a[d1 > 4/51, ] # a da d1 kolununda 4/51 den büyük olan verileri çekti. gözlem sayısı 51 olduğu için 4/51 dedik. Niye 4 ?"
   ]
  },
  {
   "cell_type": "markdown",
   "metadata": {},
   "source": [
    "51 inci satırda ki dc ülkesinin Cook's distance yüksek olduğu için kaldırılmalı. robust regression bunu yapıyor. Şimdi residual ları mutlak değerini alıp kıyaslama yapacağız."
   ]
  },
  {
   "cell_type": "code",
   "execution_count": 37,
   "metadata": {},
   "outputs": [
    {
     "data": {
      "text/html": [
       "<table>\n",
       "<thead><tr><th></th><th scope=col>sid</th><th scope=col>state</th><th scope=col>crime</th><th scope=col>murder</th><th scope=col>pctmetro</th><th scope=col>pctwhite</th><th scope=col>pcths</th><th scope=col>poverty</th><th scope=col>single</th><th scope=col>d1</th><th scope=col>r</th><th scope=col>rabs</th></tr></thead>\n",
       "<tbody>\n",
       "\t<tr><th scope=row>25</th><td>25        </td><td>ms        </td><td> 434      </td><td>13.5      </td><td> 30.7     </td><td>63.3      </td><td>64.3      </td><td>24.7      </td><td>14.7      </td><td>0.61387212</td><td>-3.562990 </td><td>3.562990  </td></tr>\n",
       "\t<tr><th scope=row>9</th><td> 9        </td><td>fl        </td><td>1206      </td><td> 8.9      </td><td> 93.0     </td><td>83.5      </td><td>74.4      </td><td>17.8      </td><td>10.6      </td><td>0.14258909</td><td> 2.902663 </td><td>2.902663  </td></tr>\n",
       "\t<tr><th scope=row>51</th><td>51        </td><td>dc        </td><td>2922      </td><td>78.5      </td><td>100.0     </td><td>31.8      </td><td>73.1      </td><td>26.4      </td><td>22.1      </td><td>2.63625193</td><td> 2.616447 </td><td>2.616447  </td></tr>\n",
       "\t<tr><th scope=row>46</th><td>46        </td><td>vt        </td><td> 114      </td><td> 3.6      </td><td> 27.0     </td><td>98.4      </td><td>80.8      </td><td>10.0      </td><td>11.0      </td><td>0.04271548</td><td>-1.742409 </td><td>1.742409  </td></tr>\n",
       "\t<tr><th scope=row>26</th><td>26        </td><td>mt        </td><td> 178      </td><td> 3.0      </td><td> 24.0     </td><td>92.6      </td><td>81.0      </td><td>14.9      </td><td>10.8      </td><td>0.01675501</td><td>-1.460885 </td><td>1.460885  </td></tr>\n",
       "\t<tr><th scope=row>21</th><td>21        </td><td>me        </td><td> 126      </td><td> 1.6      </td><td> 35.7     </td><td>98.5      </td><td>78.8      </td><td>10.7      </td><td>10.6      </td><td>0.02233128</td><td>-1.426741 </td><td>1.426741  </td></tr>\n",
       "\t<tr><th scope=row>1</th><td> 1        </td><td>ak        </td><td> 761      </td><td> 9.0      </td><td> 41.8     </td><td>75.2      </td><td>86.6      </td><td> 9.1      </td><td>14.3      </td><td>0.12547500</td><td>-1.397418 </td><td>1.397418  </td></tr>\n",
       "\t<tr><th scope=row>31</th><td>31        </td><td>nj        </td><td> 627      </td><td> 5.3      </td><td>100.0     </td><td>80.8      </td><td>76.7      </td><td>10.9      </td><td> 9.6      </td><td>0.02229184</td><td> 1.354149 </td><td>1.354149  </td></tr>\n",
       "\t<tr><th scope=row>14</th><td>14        </td><td>il        </td><td> 960      </td><td>11.4      </td><td> 84.0     </td><td>81.0      </td><td>76.2      </td><td>13.6      </td><td>11.5      </td><td>0.01265689</td><td> 1.338192 </td><td>1.338192  </td></tr>\n",
       "\t<tr><th scope=row>20</th><td>20        </td><td>md        </td><td> 998      </td><td>12.7      </td><td> 92.8     </td><td>68.9      </td><td>78.4      </td><td> 9.7      </td><td>12.0      </td><td>0.03569623</td><td> 1.287087 </td><td>1.287087  </td></tr>\n",
       "</tbody>\n",
       "</table>\n"
      ],
      "text/latex": [
       "\\begin{tabular}{r|llllllllllll}\n",
       "  & sid & state & crime & murder & pctmetro & pctwhite & pcths & poverty & single & d1 & r & rabs\\\\\n",
       "\\hline\n",
       "\t25 & 25         & ms         &  434       & 13.5       &  30.7      & 63.3       & 64.3       & 24.7       & 14.7       & 0.61387212 & -3.562990  & 3.562990  \\\\\n",
       "\t9 &  9         & fl         & 1206       &  8.9       &  93.0      & 83.5       & 74.4       & 17.8       & 10.6       & 0.14258909 &  2.902663  & 2.902663  \\\\\n",
       "\t51 & 51         & dc         & 2922       & 78.5       & 100.0      & 31.8       & 73.1       & 26.4       & 22.1       & 2.63625193 &  2.616447  & 2.616447  \\\\\n",
       "\t46 & 46         & vt         &  114       &  3.6       &  27.0      & 98.4       & 80.8       & 10.0       & 11.0       & 0.04271548 & -1.742409  & 1.742409  \\\\\n",
       "\t26 & 26         & mt         &  178       &  3.0       &  24.0      & 92.6       & 81.0       & 14.9       & 10.8       & 0.01675501 & -1.460885  & 1.460885  \\\\\n",
       "\t21 & 21         & me         &  126       &  1.6       &  35.7      & 98.5       & 78.8       & 10.7       & 10.6       & 0.02233128 & -1.426741  & 1.426741  \\\\\n",
       "\t1 &  1         & ak         &  761       &  9.0       &  41.8      & 75.2       & 86.6       &  9.1       & 14.3       & 0.12547500 & -1.397418  & 1.397418  \\\\\n",
       "\t31 & 31         & nj         &  627       &  5.3       & 100.0      & 80.8       & 76.7       & 10.9       &  9.6       & 0.02229184 &  1.354149  & 1.354149  \\\\\n",
       "\t14 & 14         & il         &  960       & 11.4       &  84.0      & 81.0       & 76.2       & 13.6       & 11.5       & 0.01265689 &  1.338192  & 1.338192  \\\\\n",
       "\t20 & 20         & md         &  998       & 12.7       &  92.8      & 68.9       & 78.4       &  9.7       & 12.0       & 0.03569623 &  1.287087  & 1.287087  \\\\\n",
       "\\end{tabular}\n"
      ],
      "text/markdown": [
       "\n",
       "| <!--/--> | sid | state | crime | murder | pctmetro | pctwhite | pcths | poverty | single | d1 | r | rabs | \n",
       "|---|---|---|---|---|---|---|---|---|---|\n",
       "| 25 | 25         | ms         |  434       | 13.5       |  30.7      | 63.3       | 64.3       | 24.7       | 14.7       | 0.61387212 | -3.562990  | 3.562990   | \n",
       "| 9 |  9         | fl         | 1206       |  8.9       |  93.0      | 83.5       | 74.4       | 17.8       | 10.6       | 0.14258909 |  2.902663  | 2.902663   | \n",
       "| 51 | 51         | dc         | 2922       | 78.5       | 100.0      | 31.8       | 73.1       | 26.4       | 22.1       | 2.63625193 |  2.616447  | 2.616447   | \n",
       "| 46 | 46         | vt         |  114       |  3.6       |  27.0      | 98.4       | 80.8       | 10.0       | 11.0       | 0.04271548 | -1.742409  | 1.742409   | \n",
       "| 26 | 26         | mt         |  178       |  3.0       |  24.0      | 92.6       | 81.0       | 14.9       | 10.8       | 0.01675501 | -1.460885  | 1.460885   | \n",
       "| 21 | 21         | me         |  126       |  1.6       |  35.7      | 98.5       | 78.8       | 10.7       | 10.6       | 0.02233128 | -1.426741  | 1.426741   | \n",
       "| 1 |  1         | ak         |  761       |  9.0       |  41.8      | 75.2       | 86.6       |  9.1       | 14.3       | 0.12547500 | -1.397418  | 1.397418   | \n",
       "| 31 | 31         | nj         |  627       |  5.3       | 100.0      | 80.8       | 76.7       | 10.9       |  9.6       | 0.02229184 |  1.354149  | 1.354149   | \n",
       "| 14 | 14         | il         |  960       | 11.4       |  84.0      | 81.0       | 76.2       | 13.6       | 11.5       | 0.01265689 |  1.338192  | 1.338192   | \n",
       "| 20 | 20         | md         |  998       | 12.7       |  92.8      | 68.9       | 78.4       |  9.7       | 12.0       | 0.03569623 |  1.287087  | 1.287087   | \n",
       "\n",
       "\n"
      ],
      "text/plain": [
       "   sid state crime murder pctmetro pctwhite pcths poverty single d1        \n",
       "25 25  ms     434  13.5    30.7    63.3     64.3  24.7    14.7   0.61387212\n",
       "9   9  fl    1206   8.9    93.0    83.5     74.4  17.8    10.6   0.14258909\n",
       "51 51  dc    2922  78.5   100.0    31.8     73.1  26.4    22.1   2.63625193\n",
       "46 46  vt     114   3.6    27.0    98.4     80.8  10.0    11.0   0.04271548\n",
       "26 26  mt     178   3.0    24.0    92.6     81.0  14.9    10.8   0.01675501\n",
       "21 21  me     126   1.6    35.7    98.5     78.8  10.7    10.6   0.02233128\n",
       "1   1  ak     761   9.0    41.8    75.2     86.6   9.1    14.3   0.12547500\n",
       "31 31  nj     627   5.3   100.0    80.8     76.7  10.9     9.6   0.02229184\n",
       "14 14  il     960  11.4    84.0    81.0     76.2  13.6    11.5   0.01265689\n",
       "20 20  md     998  12.7    92.8    68.9     78.4   9.7    12.0   0.03569623\n",
       "   r         rabs    \n",
       "25 -3.562990 3.562990\n",
       "9   2.902663 2.902663\n",
       "51  2.616447 2.616447\n",
       "46 -1.742409 1.742409\n",
       "26 -1.460885 1.460885\n",
       "21 -1.426741 1.426741\n",
       "1  -1.397418 1.397418\n",
       "31  1.354149 1.354149\n",
       "14  1.338192 1.338192\n",
       "20  1.287087 1.287087"
      ]
     },
     "metadata": {},
     "output_type": "display_data"
    }
   ],
   "source": [
    "rabs <- abs(r)\n",
    "a <-cbind(cdata, d1, r, rabs)\n",
    "a[order(-rabs), ][1:10, ] # bütün satırda rabs  kolununda order ile residualları büyükten küçüğe sıralama yaptıktan sonra\n",
    "#  oluşan matrikste ilk 10 satırı aldık"
   ]
  },
  {
   "cell_type": "markdown",
   "metadata": {},
   "source": [
    " robust regression için MASS paketinde rlm() komutu ile çalıştırılır.\n",
    " Çeşitli weight fonksiyonlarını kullanabiliriz: Huber , bisquare, hampel "
   ]
  },
  {
   "cell_type": "code",
   "execution_count": 38,
   "metadata": {},
   "outputs": [
    {
     "data": {
      "text/plain": [
       "\n",
       "Call: rlm(formula = crime ~ poverty + single, data = cdata, psi = psi.huber)\n",
       "Residuals:\n",
       "    Min      1Q  Median      3Q     Max \n",
       "-846.09 -125.80  -16.49  119.15  679.94 \n",
       "\n",
       "Coefficients:\n",
       "            Value      Std. Error t value   \n",
       "(Intercept) -1423.0373   167.5899    -8.4912\n",
       "poverty         8.8677     8.0467     1.1020\n",
       "single        168.9858    17.3878     9.7186\n",
       "\n",
       "Residual standard error: 181.8 on 48 degrees of freedom"
      ]
     },
     "metadata": {},
     "output_type": "display_data"
    }
   ],
   "source": [
    "robModel <- rlm (crime ~ poverty + single, psi = psi.huber, data = cdata) # Robust Regrression\n",
    "\n",
    "summary(robModel) # model summary"
   ]
  },
  {
   "cell_type": "code",
   "execution_count": 13,
   "metadata": {},
   "outputs": [
    {
     "data": {
      "text/html": [
       "<table>\n",
       "<thead><tr><th></th><th scope=col>state</th><th scope=col>resid</th><th scope=col>weight</th></tr></thead>\n",
       "<tbody>\n",
       "\t<tr><th scope=row>25</th><td>ms        </td><td>-846.08536</td><td>0.2889618 </td></tr>\n",
       "\t<tr><th scope=row>9</th><td>fl        </td><td> 679.94327</td><td>0.3595480 </td></tr>\n",
       "\t<tr><th scope=row>46</th><td>vt        </td><td>-410.48310</td><td>0.5955740 </td></tr>\n",
       "\t<tr><th scope=row>51</th><td>dc        </td><td> 376.34468</td><td>0.6494131 </td></tr>\n",
       "\t<tr><th scope=row>26</th><td>mt        </td><td>-356.13760</td><td>0.6864625 </td></tr>\n",
       "\t<tr><th scope=row>21</th><td>me        </td><td>-337.09622</td><td>0.7252263 </td></tr>\n",
       "\t<tr><th scope=row>31</th><td>nj        </td><td> 331.11603</td><td>0.7383578 </td></tr>\n",
       "\t<tr><th scope=row>14</th><td>il        </td><td> 319.10036</td><td>0.7661169 </td></tr>\n",
       "\t<tr><th scope=row>1</th><td>ak        </td><td>-313.15532</td><td>0.7807432 </td></tr>\n",
       "\t<tr><th scope=row>20</th><td>md        </td><td> 307.19142</td><td>0.7958154 </td></tr>\n",
       "\t<tr><th scope=row>19</th><td>ma        </td><td> 291.20817</td><td>0.8395172 </td></tr>\n",
       "\t<tr><th scope=row>18</th><td>la        </td><td>-266.95752</td><td>0.9159411 </td></tr>\n",
       "\t<tr><th scope=row>2</th><td>al        </td><td> 105.40319</td><td>1.0000000 </td></tr>\n",
       "\t<tr><th scope=row>3</th><td>ar        </td><td>  30.53589</td><td>1.0000000 </td></tr>\n",
       "\t<tr><th scope=row>4</th><td>az        </td><td> -43.25299</td><td>1.0000000 </td></tr>\n",
       "</tbody>\n",
       "</table>\n"
      ],
      "text/latex": [
       "\\begin{tabular}{r|lll}\n",
       "  & state & resid & weight\\\\\n",
       "\\hline\n",
       "\t25 & ms         & -846.08536 & 0.2889618 \\\\\n",
       "\t9 & fl         &  679.94327 & 0.3595480 \\\\\n",
       "\t46 & vt         & -410.48310 & 0.5955740 \\\\\n",
       "\t51 & dc         &  376.34468 & 0.6494131 \\\\\n",
       "\t26 & mt         & -356.13760 & 0.6864625 \\\\\n",
       "\t21 & me         & -337.09622 & 0.7252263 \\\\\n",
       "\t31 & nj         &  331.11603 & 0.7383578 \\\\\n",
       "\t14 & il         &  319.10036 & 0.7661169 \\\\\n",
       "\t1 & ak         & -313.15532 & 0.7807432 \\\\\n",
       "\t20 & md         &  307.19142 & 0.7958154 \\\\\n",
       "\t19 & ma         &  291.20817 & 0.8395172 \\\\\n",
       "\t18 & la         & -266.95752 & 0.9159411 \\\\\n",
       "\t2 & al         &  105.40319 & 1.0000000 \\\\\n",
       "\t3 & ar         &   30.53589 & 1.0000000 \\\\\n",
       "\t4 & az         &  -43.25299 & 1.0000000 \\\\\n",
       "\\end{tabular}\n"
      ],
      "text/markdown": [
       "\n",
       "| <!--/--> | state | resid | weight | \n",
       "|---|---|---|---|---|---|---|---|---|---|---|---|---|---|---|\n",
       "| 25 | ms         | -846.08536 | 0.2889618  | \n",
       "| 9 | fl         |  679.94327 | 0.3595480  | \n",
       "| 46 | vt         | -410.48310 | 0.5955740  | \n",
       "| 51 | dc         |  376.34468 | 0.6494131  | \n",
       "| 26 | mt         | -356.13760 | 0.6864625  | \n",
       "| 21 | me         | -337.09622 | 0.7252263  | \n",
       "| 31 | nj         |  331.11603 | 0.7383578  | \n",
       "| 14 | il         |  319.10036 | 0.7661169  | \n",
       "| 1 | ak         | -313.15532 | 0.7807432  | \n",
       "| 20 | md         |  307.19142 | 0.7958154  | \n",
       "| 19 | ma         |  291.20817 | 0.8395172  | \n",
       "| 18 | la         | -266.95752 | 0.9159411  | \n",
       "| 2 | al         |  105.40319 | 1.0000000  | \n",
       "| 3 | ar         |   30.53589 | 1.0000000  | \n",
       "| 4 | az         |  -43.25299 | 1.0000000  | \n",
       "\n",
       "\n"
      ],
      "text/plain": [
       "   state resid      weight   \n",
       "25 ms    -846.08536 0.2889618\n",
       "9  fl     679.94327 0.3595480\n",
       "46 vt    -410.48310 0.5955740\n",
       "51 dc     376.34468 0.6494131\n",
       "26 mt    -356.13760 0.6864625\n",
       "21 me    -337.09622 0.7252263\n",
       "31 nj     331.11603 0.7383578\n",
       "14 il     319.10036 0.7661169\n",
       "1  ak    -313.15532 0.7807432\n",
       "20 md     307.19142 0.7958154\n",
       "19 ma     291.20817 0.8395172\n",
       "18 la    -266.95752 0.9159411\n",
       "2  al     105.40319 1.0000000\n",
       "3  ar      30.53589 1.0000000\n",
       "4  az     -43.25299 1.0000000"
      ]
     },
     "metadata": {},
     "output_type": "display_data"
    }
   ],
   "source": [
    "hweight <- data.frame(state = cdata$state, resid = robModel$resid, weight = robModel$w)\n",
    "hweight1 <- hweight[order(robModel$w), ]\n",
    "hweight1[1:15, ]"
   ]
  },
  {
   "cell_type": "markdown",
   "metadata": {},
   "source": [
    "residuallar düştükçe weights değerleri yükseliyor. Weights değerleri 1 e ne kadar yakınsa robust regression da linear regressiona o kadar yakındır."
   ]
  },
  {
   "cell_type": "code",
   "execution_count": 20,
   "metadata": {},
   "outputs": [
    {
     "data": {
      "text/plain": [
       "\n",
       "Call: rlm(formula = crime ~ poverty + single, data = cdata, psi = psi.bisquare)\n",
       "Residuals:\n",
       "    Min      1Q  Median      3Q     Max \n",
       "-905.59 -140.97  -14.98  114.65  668.38 \n",
       "\n",
       "Coefficients:\n",
       "            Value      Std. Error t value   \n",
       "(Intercept) -1535.3338   164.5062    -9.3330\n",
       "poverty        11.6903     7.8987     1.4800\n",
       "single        175.9303    17.0678    10.3077\n",
       "\n",
       "Residual standard error: 202.3 on 48 degrees of freedom"
      ]
     },
     "metadata": {},
     "output_type": "display_data"
    }
   ],
   "source": [
    "robModel1 <- rlm(crime ~ poverty + single, data = cdata, psi = psi.bisquare)\n",
    "summary(robModel1)"
   ]
  },
  {
   "cell_type": "code",
   "execution_count": 22,
   "metadata": {},
   "outputs": [
    {
     "data": {
      "text/html": [
       "<table>\n",
       "<thead><tr><th></th><th scope=col>state</th><th scope=col>resid</th><th scope=col>weight</th></tr></thead>\n",
       "<tbody>\n",
       "\t<tr><th scope=row>25</th><td>ms         </td><td>-905.5931  </td><td>0.007652565</td></tr>\n",
       "\t<tr><th scope=row>9</th><td>fl         </td><td> 668.3844  </td><td>0.252870542</td></tr>\n",
       "\t<tr><th scope=row>46</th><td>vt         </td><td>-402.8031  </td><td>0.671495418</td></tr>\n",
       "\t<tr><th scope=row>26</th><td>mt         </td><td>-360.8997  </td><td>0.731136908</td></tr>\n",
       "\t<tr><th scope=row>31</th><td>nj         </td><td> 345.9780  </td><td>0.751347695</td></tr>\n",
       "\t<tr><th scope=row>18</th><td>la         </td><td>-332.6527  </td><td>0.768938330</td></tr>\n",
       "\t<tr><th scope=row>21</th><td>me         </td><td>-328.6143  </td><td>0.774103322</td></tr>\n",
       "\t<tr><th scope=row>1</th><td>ak         </td><td>-325.8519  </td><td>0.777662383</td></tr>\n",
       "\t<tr><th scope=row>14</th><td>il         </td><td> 313.1466  </td><td>0.793658594</td></tr>\n",
       "\t<tr><th scope=row>20</th><td>md         </td><td> 308.7737  </td><td>0.799065530</td></tr>\n",
       "\t<tr><th scope=row>19</th><td>ma         </td><td> 297.6068  </td><td>0.812596833</td></tr>\n",
       "\t<tr><th scope=row>51</th><td>dc         </td><td> 260.6489  </td><td>0.854441716</td></tr>\n",
       "\t<tr><th scope=row>50</th><td>wy         </td><td>-234.1952  </td><td>0.881660897</td></tr>\n",
       "\t<tr><th scope=row>5</th><td>ca         </td><td> 201.4407  </td><td>0.911713981</td></tr>\n",
       "\t<tr><th scope=row>10</th><td>ga         </td><td>-186.5799  </td><td>0.924033113</td></tr>\n",
       "</tbody>\n",
       "</table>\n"
      ],
      "text/latex": [
       "\\begin{tabular}{r|lll}\n",
       "  & state & resid & weight\\\\\n",
       "\\hline\n",
       "\t25 & ms          & -905.5931   & 0.007652565\\\\\n",
       "\t9 & fl          &  668.3844   & 0.252870542\\\\\n",
       "\t46 & vt          & -402.8031   & 0.671495418\\\\\n",
       "\t26 & mt          & -360.8997   & 0.731136908\\\\\n",
       "\t31 & nj          &  345.9780   & 0.751347695\\\\\n",
       "\t18 & la          & -332.6527   & 0.768938330\\\\\n",
       "\t21 & me          & -328.6143   & 0.774103322\\\\\n",
       "\t1 & ak          & -325.8519   & 0.777662383\\\\\n",
       "\t14 & il          &  313.1466   & 0.793658594\\\\\n",
       "\t20 & md          &  308.7737   & 0.799065530\\\\\n",
       "\t19 & ma          &  297.6068   & 0.812596833\\\\\n",
       "\t51 & dc          &  260.6489   & 0.854441716\\\\\n",
       "\t50 & wy          & -234.1952   & 0.881660897\\\\\n",
       "\t5 & ca          &  201.4407   & 0.911713981\\\\\n",
       "\t10 & ga          & -186.5799   & 0.924033113\\\\\n",
       "\\end{tabular}\n"
      ],
      "text/markdown": [
       "\n",
       "| <!--/--> | state | resid | weight | \n",
       "|---|---|---|---|---|---|---|---|---|---|---|---|---|---|---|\n",
       "| 25 | ms          | -905.5931   | 0.007652565 | \n",
       "| 9 | fl          |  668.3844   | 0.252870542 | \n",
       "| 46 | vt          | -402.8031   | 0.671495418 | \n",
       "| 26 | mt          | -360.8997   | 0.731136908 | \n",
       "| 31 | nj          |  345.9780   | 0.751347695 | \n",
       "| 18 | la          | -332.6527   | 0.768938330 | \n",
       "| 21 | me          | -328.6143   | 0.774103322 | \n",
       "| 1 | ak          | -325.8519   | 0.777662383 | \n",
       "| 14 | il          |  313.1466   | 0.793658594 | \n",
       "| 20 | md          |  308.7737   | 0.799065530 | \n",
       "| 19 | ma          |  297.6068   | 0.812596833 | \n",
       "| 51 | dc          |  260.6489   | 0.854441716 | \n",
       "| 50 | wy          | -234.1952   | 0.881660897 | \n",
       "| 5 | ca          |  201.4407   | 0.911713981 | \n",
       "| 10 | ga          | -186.5799   | 0.924033113 | \n",
       "\n",
       "\n"
      ],
      "text/plain": [
       "   state resid     weight     \n",
       "25 ms    -905.5931 0.007652565\n",
       "9  fl     668.3844 0.252870542\n",
       "46 vt    -402.8031 0.671495418\n",
       "26 mt    -360.8997 0.731136908\n",
       "31 nj     345.9780 0.751347695\n",
       "18 la    -332.6527 0.768938330\n",
       "21 me    -328.6143 0.774103322\n",
       "1  ak    -325.8519 0.777662383\n",
       "14 il     313.1466 0.793658594\n",
       "20 md     308.7737 0.799065530\n",
       "19 ma     297.6068 0.812596833\n",
       "51 dc     260.6489 0.854441716\n",
       "50 wy    -234.1952 0.881660897\n",
       "5  ca     201.4407 0.911713981\n",
       "10 ga    -186.5799 0.924033113"
      ]
     },
     "metadata": {},
     "output_type": "display_data"
    }
   ],
   "source": [
    "bweight <- data.frame(state = cdata$state, resid = robModel1$resid, weight = robModel1$w)\n",
    "bweight1 <- bweight[order(robModel1$w), ]\n",
    "bweight1[1:15, ]"
   ]
  },
  {
   "cell_type": "code",
   "execution_count": 21,
   "metadata": {},
   "outputs": [
    {
     "data": {
      "text/plain": [
       "\n",
       "Call: rlm(formula = crime ~ poverty + single, data = cdata, psi = psi.hampel)\n",
       "Residuals:\n",
       "   Min     1Q Median     3Q    Max \n",
       "-866.1 -134.3  -10.8  116.1  678.5 \n",
       "\n",
       "Coefficients:\n",
       "            Value      Std. Error t value   \n",
       "(Intercept) -1469.5915   163.9485    -8.9637\n",
       "poverty         9.6270     7.8719     1.2230\n",
       "single        172.2396    17.0100    10.1258\n",
       "\n",
       "Residual standard error: 186.4 on 48 degrees of freedom"
      ]
     },
     "metadata": {},
     "output_type": "display_data"
    }
   ],
   "source": [
    "robModel2 <- rlm(crime ~ poverty + single, data = cdata, psi = psi.hampel)\n",
    "summary(robModel2)"
   ]
  },
  {
   "cell_type": "code",
   "execution_count": 23,
   "metadata": {},
   "outputs": [
    {
     "data": {
      "text/html": [
       "<table>\n",
       "<thead><tr><th></th><th scope=col>state</th><th scope=col>resid</th><th scope=col>weight</th></tr></thead>\n",
       "<tbody>\n",
       "\t<tr><th scope=row>25</th><td>ms        </td><td>-866.11699</td><td>0.3611173 </td></tr>\n",
       "\t<tr><th scope=row>9</th><td>fl        </td><td> 678.49144</td><td>0.5495930 </td></tr>\n",
       "\t<tr><th scope=row>46</th><td>vt        </td><td>-407.31382</td><td>0.9155092 </td></tr>\n",
       "\t<tr><th scope=row>1</th><td>ak        </td><td>-320.04020</td><td>1.0000000 </td></tr>\n",
       "\t<tr><th scope=row>2</th><td>al        </td><td> 101.32667</td><td>1.0000000 </td></tr>\n",
       "\t<tr><th scope=row>3</th><td>ar        </td><td>  27.08820</td><td>1.0000000 </td></tr>\n",
       "\t<tr><th scope=row>4</th><td>az        </td><td> -47.76317</td><td>1.0000000 </td></tr>\n",
       "\t<tr><th scope=row>5</th><td>ca        </td><td> 219.38548</td><td>1.0000000 </td></tr>\n",
       "\t<tr><th scope=row>6</th><td>co        </td><td>-142.81473</td><td>1.0000000 </td></tr>\n",
       "\t<tr><th scope=row>7</th><td>ct        </td><td> 104.14222</td><td>1.0000000 </td></tr>\n",
       "\t<tr><th scope=row>8</th><td>de        </td><td>  93.86501</td><td>1.0000000 </td></tr>\n",
       "\t<tr><th scope=row>10</th><td>ga        </td><td>-176.48745</td><td>1.0000000 </td></tr>\n",
       "\t<tr><th scope=row>11</th><td>hi        </td><td>  86.19530</td><td>1.0000000 </td></tr>\n",
       "\t<tr><th scope=row>12</th><td>ia        </td><td> 146.27725</td><td>1.0000000 </td></tr>\n",
       "\t<tr><th scope=row>13</th><td>id        </td><td> -10.79812</td><td>1.0000000 </td></tr>\n",
       "</tbody>\n",
       "</table>\n"
      ],
      "text/latex": [
       "\\begin{tabular}{r|lll}\n",
       "  & state & resid & weight\\\\\n",
       "\\hline\n",
       "\t25 & ms         & -866.11699 & 0.3611173 \\\\\n",
       "\t9 & fl         &  678.49144 & 0.5495930 \\\\\n",
       "\t46 & vt         & -407.31382 & 0.9155092 \\\\\n",
       "\t1 & ak         & -320.04020 & 1.0000000 \\\\\n",
       "\t2 & al         &  101.32667 & 1.0000000 \\\\\n",
       "\t3 & ar         &   27.08820 & 1.0000000 \\\\\n",
       "\t4 & az         &  -47.76317 & 1.0000000 \\\\\n",
       "\t5 & ca         &  219.38548 & 1.0000000 \\\\\n",
       "\t6 & co         & -142.81473 & 1.0000000 \\\\\n",
       "\t7 & ct         &  104.14222 & 1.0000000 \\\\\n",
       "\t8 & de         &   93.86501 & 1.0000000 \\\\\n",
       "\t10 & ga         & -176.48745 & 1.0000000 \\\\\n",
       "\t11 & hi         &   86.19530 & 1.0000000 \\\\\n",
       "\t12 & ia         &  146.27725 & 1.0000000 \\\\\n",
       "\t13 & id         &  -10.79812 & 1.0000000 \\\\\n",
       "\\end{tabular}\n"
      ],
      "text/markdown": [
       "\n",
       "| <!--/--> | state | resid | weight | \n",
       "|---|---|---|---|---|---|---|---|---|---|---|---|---|---|---|\n",
       "| 25 | ms         | -866.11699 | 0.3611173  | \n",
       "| 9 | fl         |  678.49144 | 0.5495930  | \n",
       "| 46 | vt         | -407.31382 | 0.9155092  | \n",
       "| 1 | ak         | -320.04020 | 1.0000000  | \n",
       "| 2 | al         |  101.32667 | 1.0000000  | \n",
       "| 3 | ar         |   27.08820 | 1.0000000  | \n",
       "| 4 | az         |  -47.76317 | 1.0000000  | \n",
       "| 5 | ca         |  219.38548 | 1.0000000  | \n",
       "| 6 | co         | -142.81473 | 1.0000000  | \n",
       "| 7 | ct         |  104.14222 | 1.0000000  | \n",
       "| 8 | de         |   93.86501 | 1.0000000  | \n",
       "| 10 | ga         | -176.48745 | 1.0000000  | \n",
       "| 11 | hi         |   86.19530 | 1.0000000  | \n",
       "| 12 | ia         |  146.27725 | 1.0000000  | \n",
       "| 13 | id         |  -10.79812 | 1.0000000  | \n",
       "\n",
       "\n"
      ],
      "text/plain": [
       "   state resid      weight   \n",
       "25 ms    -866.11699 0.3611173\n",
       "9  fl     678.49144 0.5495930\n",
       "46 vt    -407.31382 0.9155092\n",
       "1  ak    -320.04020 1.0000000\n",
       "2  al     101.32667 1.0000000\n",
       "3  ar      27.08820 1.0000000\n",
       "4  az     -47.76317 1.0000000\n",
       "5  ca     219.38548 1.0000000\n",
       "6  co    -142.81473 1.0000000\n",
       "7  ct     104.14222 1.0000000\n",
       "8  de      93.86501 1.0000000\n",
       "10 ga    -176.48745 1.0000000\n",
       "11 hi      86.19530 1.0000000\n",
       "12 ia     146.27725 1.0000000\n",
       "13 id     -10.79812 1.0000000"
      ]
     },
     "metadata": {},
     "output_type": "display_data"
    }
   ],
   "source": [
    "haweight <- data.frame(state = cdata$state, resid = robModel2$resid, weight = robModel2$w)\n",
    "haweight1 <- haweight[order(robModel2$w), ]\n",
    "haweight1[1:15, ]"
   ]
  },
  {
   "cell_type": "markdown",
   "metadata": {},
   "source": [
    "For the crime dataset, The Huber's weight function is better than other with residual standart error 181.8"
   ]
  },
  {
   "cell_type": "markdown",
   "metadata": {},
   "source": [
    "# Sorular\n",
    "\n",
    " - Weight function niye $\\rho'(e)/e$ olarak tanımlandı ? Bir fonksiyounun türevinin değişkenine oranı weight function mıdır?\n",
    " \n",
    " \n",
    " - IRLS ' de $b^{(j)}=X^{-1}Y $ yazmayıp da neden şu yolu kullanmış\n",
    "\\begin{align}\n",
    "b^{(j)}=& X^{-1}[X'W^{(j-1)}]^{-1}X'W^{(j-1)}Y \\\\\n",
    "=& X'W^{(j-1)}X^{-1}X'W^{(j-1)}Y\n",
    "\\end{align}\n",
    "\n",
    "\n",
    " - Uygulamada niye poverty ve single kullanarak crime ı tahmin etmeye çalıştık ? Diğer kolonların anlamlı olup olmadığını nasıl karar vereceğiz ? Ben poverty ve single kullanarak murder ı predict etmeye çalıştım ve residuallar 450 500 civarı çıktı. Murder için bu model kötü bir model diyebilir miyim yani ?\n",
    " \n",
    " \n",
    " - Cook's Distance hesaplarken $>\\frac{4}{n}$ olarak kısıtlama var, n is # observations,  why 4 ?"
   ]
  },
  {
   "cell_type": "markdown",
   "metadata": {},
   "source": [
    "# References\n",
    "\n",
    "https://stats.idre.ucla.edu/other/dae/\n",
    "\n",
    "http://rstatistics.net/\n",
    "\n",
    "https://socialsciences.mcmaster.ca/jfox/Books/Companion/appendix/Appendix-Robust-Regression.pdf"
   ]
  }
 ],
 "metadata": {
  "kernelspec": {
   "display_name": "R",
   "language": "R",
   "name": "ir"
  },
  "language_info": {
   "codemirror_mode": "r",
   "file_extension": ".r",
   "mimetype": "text/x-r-source",
   "name": "R",
   "pygments_lexer": "r",
   "version": "3.4.3"
  }
 },
 "nbformat": 4,
 "nbformat_minor": 2
}
