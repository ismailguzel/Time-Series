{
 "cells": [
  {
   "cell_type": "markdown",
   "metadata": {},
   "source": [
    "# BIST30"
   ]
  },
  {
   "cell_type": "code",
   "execution_count": 2,
   "metadata": {},
   "outputs": [
    {
     "data": {
      "text/html": [
       "<table>\n",
       "<thead><tr><th scope=col>Dates</th><th scope=col>Close_Price</th></tr></thead>\n",
       "<tbody>\n",
       "\t<tr><td>1997-10-20</td><td>3885.79   </td></tr>\n",
       "\t<tr><td>1997-10-21</td><td>3925.19   </td></tr>\n",
       "\t<tr><td>1997-10-22</td><td>3971.14   </td></tr>\n",
       "\t<tr><td>1997-10-23</td><td>4031.59   </td></tr>\n",
       "\t<tr><td>1997-10-24</td><td>3999.96   </td></tr>\n",
       "</tbody>\n",
       "</table>\n"
      ],
      "text/latex": [
       "\\begin{tabular}{r|ll}\n",
       " Dates & Close\\_Price\\\\\n",
       "\\hline\n",
       "\t 1997-10-20 & 3885.79   \\\\\n",
       "\t 1997-10-21 & 3925.19   \\\\\n",
       "\t 1997-10-22 & 3971.14   \\\\\n",
       "\t 1997-10-23 & 4031.59   \\\\\n",
       "\t 1997-10-24 & 3999.96   \\\\\n",
       "\\end{tabular}\n"
      ],
      "text/markdown": [
       "\n",
       "Dates | Close_Price | \n",
       "|---|---|---|---|---|\n",
       "| 1997-10-20 | 3885.79    | \n",
       "| 1997-10-21 | 3925.19    | \n",
       "| 1997-10-22 | 3971.14    | \n",
       "| 1997-10-23 | 4031.59    | \n",
       "| 1997-10-24 | 3999.96    | \n",
       "\n",
       "\n"
      ],
      "text/plain": [
       "  Dates      Close_Price\n",
       "1 1997-10-20 3885.79    \n",
       "2 1997-10-21 3925.19    \n",
       "3 1997-10-22 3971.14    \n",
       "4 1997-10-23 4031.59    \n",
       "5 1997-10-24 3999.96    "
      ]
     },
     "metadata": {},
     "output_type": "display_data"
    },
    {
     "data": {
      "text/html": [
       "<table>\n",
       "<thead><tr><th scope=col>Dates</th><th scope=col>Close_Price</th></tr></thead>\n",
       "<tbody>\n",
       "\t<tr><td>2018-11-13</td><td>116229.9  </td></tr>\n",
       "\t<tr><td>2018-11-14</td><td>117204.8  </td></tr>\n",
       "\t<tr><td>2018-11-15</td><td>117023.5  </td></tr>\n",
       "\t<tr><td>2018-11-16</td><td>117432.6  </td></tr>\n",
       "\t<tr><td>2018-11-19</td><td>118631.4  </td></tr>\n",
       "</tbody>\n",
       "</table>\n"
      ],
      "text/latex": [
       "\\begin{tabular}{r|ll}\n",
       " Dates & Close\\_Price\\\\\n",
       "\\hline\n",
       "\t 2018-11-13 & 116229.9  \\\\\n",
       "\t 2018-11-14 & 117204.8  \\\\\n",
       "\t 2018-11-15 & 117023.5  \\\\\n",
       "\t 2018-11-16 & 117432.6  \\\\\n",
       "\t 2018-11-19 & 118631.4  \\\\\n",
       "\\end{tabular}\n"
      ],
      "text/markdown": [
       "\n",
       "Dates | Close_Price | \n",
       "|---|---|---|---|---|\n",
       "| 2018-11-13 | 116229.9   | \n",
       "| 2018-11-14 | 117204.8   | \n",
       "| 2018-11-15 | 117023.5   | \n",
       "| 2018-11-16 | 117432.6   | \n",
       "| 2018-11-19 | 118631.4   | \n",
       "\n",
       "\n"
      ],
      "text/plain": [
       "  Dates      Close_Price\n",
       "1 2018-11-13 116229.9   \n",
       "2 2018-11-14 117204.8   \n",
       "3 2018-11-15 117023.5   \n",
       "4 2018-11-16 117432.6   \n",
       "5 2018-11-19 118631.4   "
      ]
     },
     "metadata": {},
     "output_type": "display_data"
    },
    {
     "data": {
      "text/plain": [
       "     Dates                      Close_Price    \n",
       " Min.   :1997-10-20 00:00:00   Min.   :  2139  \n",
       " 1st Qu.:2003-02-06 18:00:00   1st Qu.: 17275  \n",
       " Median :2008-05-13 12:00:00   Median : 54446  \n",
       " Mean   :2008-05-12 05:25:57   Mean   : 56213  \n",
       " 3rd Qu.:2013-08-14 06:00:00   3rd Qu.: 89795  \n",
       " Max.   :2018-11-19 00:00:00   Max.   :147936  "
      ]
     },
     "metadata": {},
     "output_type": "display_data"
    }
   ],
   "source": [
    "library(repr)\n",
    "library(readxl)\n",
    "historicalset <- read_excel(\"BIST30-BIST100-Historical-Values.xlsx\", ,sheet = 1, skip = 3, col_types = c(\"date\", \"numeric\"), col_names = c(\"Dates\",\"Close_Price\"))\n",
    "head(historicalset,5)\n",
    "tail(historicalset,5)\n",
    "summary(historicalset)"
   ]
  },
  {
   "cell_type": "code",
   "execution_count": 3,
   "metadata": {},
   "outputs": [
    {
     "name": "stderr",
     "output_type": "stream",
     "text": [
      "Warning message:\n",
      "\"package 'lubridate' was built under R version 3.5.2\"\n",
      "Attaching package: 'lubridate'\n",
      "\n",
      "The following object is masked from 'package:base':\n",
      "\n",
      "    date\n",
      "\n",
      "Warning message:\n",
      "\"package 'quantmod' was built under R version 3.5.2\"Loading required package: xts\n",
      "Warning message:\n",
      "\"package 'xts' was built under R version 3.5.2\"Loading required package: zoo\n",
      "Warning message:\n",
      "\"package 'zoo' was built under R version 3.5.2\"\n",
      "Attaching package: 'zoo'\n",
      "\n",
      "The following objects are masked from 'package:base':\n",
      "\n",
      "    as.Date, as.Date.numeric\n",
      "\n",
      "Loading required package: TTR\n",
      "Warning message:\n",
      "\"package 'TTR' was built under R version 3.5.2\"Version 0.4-0 included new data defaults. See ?getSymbols.\n"
     ]
    },
    {
     "data": {
      "text/plain": [
       "            W.Open  W.High   W.Low W.Close\n",
       "1997-10-24 3885.79 4031.59 3885.79 3999.96\n",
       "1997-10-31 3537.16 3537.16 3081.99 3223.12\n",
       "1997-11-07 3240.87 3601.49 3240.87 3333.29\n",
       "1997-11-14 3369.30 3369.30 3037.83 3051.06\n",
       "1997-11-21 3282.45 3481.19 3282.45 3481.19"
      ]
     },
     "metadata": {},
     "output_type": "display_data"
    },
    {
     "data": {
      "text/plain": [
       "             LogReturn\n",
       "1997-10-24  0.02895805\n",
       "1997-10-31 -0.09297431\n",
       "1997-11-07  0.02811799\n",
       "1997-11-14 -0.09921594\n",
       "1997-11-21  0.05878409\n",
       "1997-11-28  0.02438447"
      ]
     },
     "metadata": {},
     "output_type": "display_data"
    }
   ],
   "source": [
    "library(lubridate)\n",
    "library(quantmod)\n",
    "data.xts <- xts(historicalset$Close_Price, order.by = as.Date(historicalset$Dates))\n",
    "weeklydata <- to.weekly(data.xts, name = \"W\")\n",
    "head(weeklydata,5)\n",
    "logReturn <- as.xts(log(weeklydata$W.Close)-log(weeklydata$W.Open))\n",
    "dimnames(logReturn)[2] <- \"LogReturn\"\n",
    "head(logReturn)"
   ]
  },
  {
   "cell_type": "code",
   "execution_count": 4,
   "metadata": {},
   "outputs": [
    {
     "data": {},
     "metadata": {},
     "output_type": "display_data"
    },
    {
     "data": {
      "image/png": "[encoded data removed]",
      "text/plain": [
       "plot without title"
      ]
     },
     "metadata": {},
     "output_type": "display_data"
    }
   ],
   "source": [
    "options(repr.plot.width = 10, repr.plot.height = 6)\n",
    "plot(logReturn)"
   ]
  },
  {
   "cell_type": "code",
   "execution_count": 5,
   "metadata": {},
   "outputs": [
    {
     "name": "stderr",
     "output_type": "stream",
     "text": [
      "Warning message:\n",
      "\"package 'tseries' was built under R version 3.5.2\"Warning message in adf.test(logReturn):\n",
      "\"p-value smaller than printed p-value\""
     ]
    },
    {
     "data": {
      "text/plain": [
       "\n",
       "\tAugmented Dickey-Fuller Test\n",
       "\n",
       "data:  logReturn\n",
       "Dickey-Fuller = -10.247, Lag order = 10, p-value = 0.01\n",
       "alternative hypothesis: stationary\n"
      ]
     },
     "metadata": {},
     "output_type": "display_data"
    }
   ],
   "source": [
    "library(tseries)\n",
    "adf.test(logReturn)"
   ]
  },
  {
   "cell_type": "code",
   "execution_count": 6,
   "metadata": {},
   "outputs": [
    {
     "name": "stdout",
     "output_type": "stream",
     "text": [
      "Series: logReturn \n",
      "ARIMA(4,1,0) \n",
      "\n",
      "Coefficients:\n",
      "          ar1      ar2      ar3      ar4\n",
      "      -0.9243  -0.6683  -0.4380  -0.2458\n",
      "s.e.   0.0293   0.0383   0.0382   0.0294\n",
      "\n",
      "sigma^2 estimated as 0.00245:  log likelihood=1740.72\n",
      "AIC=-3471.44   AICc=-3471.38   BIC=-3446.44\n",
      "\n",
      "Training set error measures:\n",
      "                       ME       RMSE        MAE MPE MAPE      MASE        ACF1\n",
      "Training set 2.451569e-05 0.04938345 0.03584259 NaN  Inf 0.7214015 -0.03489773\n"
     ]
    }
   ],
   "source": [
    "library(forecast)\n",
    "full.model <- auto.arima(logReturn)\n",
    "summary(full.model)"
   ]
  },
  {
   "cell_type": "code",
   "execution_count": 7,
   "metadata": {},
   "outputs": [
    {
     "data": {
      "text/plain": [
       "\n",
       "\tShapiro-Wilk normality test\n",
       "\n",
       "data:  full.model$residuals\n",
       "W = 0.96311, p-value = 4.797e-16\n"
      ]
     },
     "metadata": {},
     "output_type": "display_data"
    }
   ],
   "source": [
    "shapiro.test(full.model$residuals)"
   ]
  },
  {
   "cell_type": "code",
   "execution_count": 8,
   "metadata": {},
   "outputs": [
    {
     "data": {
      "image/png": "[encoded data removed]",
      "text/plain": [
       "Plot with title \"Histogram of full.model$residuals\""
      ]
     },
     "metadata": {},
     "output_type": "display_data"
    }
   ],
   "source": [
    "options(repr.plot.height = 5, repr.plot.width = 10)\n",
    "par(mfrow=c(1,2))\n",
    "qqnorm(full.model$residuals)\n",
    "qqline(full.model$residuals)\n",
    "hist(full.model$residuals)"
   ]
  },
  {
   "cell_type": "code",
   "execution_count": 9,
   "metadata": {},
   "outputs": [
    {
     "name": "stdout",
     "output_type": "stream",
     "text": [
      "\n",
      "\tLjung-Box test\n",
      "\n",
      "data:  Residuals from ARIMA(4,1,0)\n",
      "Q* = 55.633, df = 6, p-value = 3.453e-10\n",
      "\n",
      "Model df: 4.   Total lags used: 10\n",
      "\n"
     ]
    },
    {
     "data": {
      "image/png": "[encoded data removed]",
      "text/plain": [
       "plot without title"
      ]
     },
     "metadata": {},
     "output_type": "display_data"
    }
   ],
   "source": [
    "checkresiduals(full.model)"
   ]
  },
  {
   "cell_type": "code",
   "execution_count": 10,
   "metadata": {},
   "outputs": [
    {
     "data": {
      "image/png": "[encoded data removed]",
      "text/plain": [
       "Plot with title \"Series  full.model$residuals^2\""
      ]
     },
     "metadata": {},
     "output_type": "display_data"
    }
   ],
   "source": [
    "par(mfrow=c(1,2))\n",
    "acf(full.model$residuals^2)\n",
    "pacf(full.model$residuals^2)"
   ]
  },
  {
   "cell_type": "code",
   "execution_count": 11,
   "metadata": {},
   "outputs": [
    {
     "name": "stderr",
     "output_type": "stream",
     "text": [
      "Warning message:\n",
      "\"package 'MTS' was built under R version 3.5.2\"\n",
      "Attaching package: 'MTS'\n",
      "\n",
      "The following object is masked from 'package:TTR':\n",
      "\n",
      "    VMA\n",
      "\n"
     ]
    },
    {
     "name": "stdout",
     "output_type": "stream",
     "text": [
      "Q(m) of squared series(LM test):  \n",
      "Test statistic:  192.9328  p-value:  0 \n",
      "Rank-based Test:  \n",
      "Test statistic:  237.9032  p-value:  0 \n"
     ]
    }
   ],
   "source": [
    "library(MTS)\n",
    "archTest(coredata(full.model$residuals))"
   ]
  },
  {
   "cell_type": "code",
   "execution_count": 12,
   "metadata": {},
   "outputs": [
    {
     "name": "stderr",
     "output_type": "stream",
     "text": [
      "Warning message:\n",
      "\"package 'fGarch' was built under R version 3.5.2\"Loading required package: timeDate\n",
      "Loading required package: timeSeries\n",
      "Warning message:\n",
      "\"package 'timeSeries' was built under R version 3.5.2\"\n",
      "Attaching package: 'timeSeries'\n",
      "\n",
      "The following object is masked from 'package:zoo':\n",
      "\n",
      "    time<-\n",
      "\n",
      "Loading required package: fBasics\n",
      "Warning message:\n",
      "\"package 'fBasics' was built under R version 3.5.2\"\n",
      "Attaching package: 'fBasics'\n",
      "\n",
      "The following object is masked from 'package:TTR':\n",
      "\n",
      "    volatility\n",
      "\n"
     ]
    }
   ],
   "source": [
    "library(fGarch)"
   ]
  },
  {
   "cell_type": "code",
   "execution_count": 13,
   "metadata": {},
   "outputs": [
    {
     "name": "stdout",
     "output_type": "stream",
     "text": [
      "\n",
      "Title:\n",
      " GARCH Modelling \n",
      "\n",
      "Call:\n",
      " garchFit(formula = ~garch(1, 1), data = full.model$residuals, \n",
      "    trace = F) \n",
      "\n",
      "Mean and Variance Equation:\n",
      " data ~ garch(1, 1)\n",
      "<environment: 0x000000000d142c00>\n",
      " [data = full.model$residuals]\n",
      "\n",
      "Conditional Distribution:\n",
      " norm \n",
      "\n",
      "Coefficient(s):\n",
      "         mu        omega       alpha1        beta1  \n",
      "-1.9339e-04   1.7529e-05   6.9591e-02   9.2342e-01  \n",
      "\n",
      "Std. Errors:\n",
      " based on Hessian \n",
      "\n",
      "Error Analysis:\n",
      "         Estimate  Std. Error  t value Pr(>|t|)    \n",
      "mu     -1.934e-04   1.118e-03   -0.173 0.862665    \n",
      "omega   1.753e-05   1.006e-05    1.742 0.081435 .  \n",
      "alpha1  6.959e-02   1.956e-02    3.558 0.000373 ***\n",
      "beta1   9.234e-01   2.114e-02   43.674  < 2e-16 ***\n",
      "---\n",
      "Signif. codes:  0 '***' 0.001 '**' 0.01 '*' 0.05 '.' 0.1 ' ' 1\n",
      "\n",
      "Log Likelihood:\n",
      " 1880.15    normalized:  1.713901 \n",
      "\n",
      "Description:\n",
      " Tue Mar 05 19:24:43 2019 by user: Ismail \n",
      "\n",
      "\n",
      "Standardised Residuals Tests:\n",
      "                                Statistic p-Value     \n",
      " Jarque-Bera Test   R    Chi^2  19.30523  6.425744e-05\n",
      " Shapiro-Wilk Test  R    W      0.9962066 0.008702875 \n",
      " Ljung-Box Test     R    Q(10)  63.63495  7.388716e-10\n",
      " Ljung-Box Test     R    Q(15)  66.67138  1.737323e-08\n",
      " Ljung-Box Test     R    Q(20)  67.33492  4.929924e-07\n",
      " Ljung-Box Test     R^2  Q(10)  8.819236  0.5493405   \n",
      " Ljung-Box Test     R^2  Q(15)  16.05346  0.3785077   \n",
      " Ljung-Box Test     R^2  Q(20)  19.90458  0.4639129   \n",
      " LM Arch Test       R    TR^2   9.598837  0.651108    \n",
      "\n",
      "Information Criterion Statistics:\n",
      "      AIC       BIC       SIC      HQIC \n",
      "-3.420510 -3.402277 -3.420536 -3.413611 \n",
      "\n"
     ]
    }
   ],
   "source": [
    "fit <- garchFit(~garch(1,1), data = full.model$residuals, trace = F)\n",
    "summary(fit)"
   ]
  },
  {
   "cell_type": "markdown",
   "metadata": {},
   "source": [
    "### The model confirms that the following parameters alpha1 and beta1 are all significant. The Ljung-box test confirms that the residuals do not have anymore heteroscedasticity because the p-values are very small up to lag 10."
   ]
  },
  {
   "cell_type": "code",
   "execution_count": 17,
   "metadata": {},
   "outputs": [
    {
     "name": "stderr",
     "output_type": "stream",
     "text": [
      "Warning message in plot.window(...):\n",
      "\"   0 * EPS değerlerinin göreceli aralığı küçük (eksen 2)\""
     ]
    },
    {
     "data": {
      "image/png": "[encoded data removed]",
      "text/plain": [
       "plot without title"
      ]
     },
     "metadata": {},
     "output_type": "display_data"
    }
   ],
   "source": [
    "par(mfrow=c(1,2))\n",
    "plot(fit@residuals)\n",
    "plot(fit@fitted)"
   ]
  }
 ],
 "metadata": {
  "kernelspec": {
   "display_name": "R",
   "language": "R",
   "name": "ir"
  },
  "language_info": {
   "codemirror_mode": "r",
   "file_extension": ".r",
   "mimetype": "text/x-r-source",
   "name": "R",
   "pygments_lexer": "r",
   "version": "3.5.1"
  }
 },
 "nbformat": 4,
 "nbformat_minor": 2
}
