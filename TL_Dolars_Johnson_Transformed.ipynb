{
 "cells": [
  {
   "cell_type": "markdown",
   "metadata": {},
   "source": [
    "## Abstract\n",
    "   We will examine the USD/TRY currency taked from Borsa Istanbul. Our aim is to determine whether there is a difference on the interval which is before crisis and after crisis. To do this, we will divide all dataset into three part, then consider each part on itself. We encourage to the log return anlaysis for further the statistical tests and calculations. We build a new dataset which consist of weekly log return data. We introduce to ARIMA model for the log return dataset. After appling ARIMA model to detect deterministic part of log return set, the residuals of ARIMA model generally have the normal distribution with mean zero and constant variance. If not, we we may use Johnson transformation to satisfy normality. We will use the R programming language for all application progresses."
   ]
  },
  {
   "cell_type": "markdown",
   "metadata": {},
   "source": [
    "## Application on USD-TRY Currency\n",
    "### Description of Data\n",
    "\n",
    "The data used in this analysis is daily closing prices of the USD-TRY currency from Borsa Istanbul between october 1997 and november 2018. \n",
    "\n",
    "Dataset is stored in a excel (xlsx) file. The package __readx1__ is used for reading dataset from excel file. The package __repr__ is used for resizing plots for better visualization."
   ]
  },
  {
   "cell_type": "code",
   "execution_count": 3,
   "metadata": {
    "scrolled": false
   },
   "outputs": [
    {
     "data": {
      "text/html": [
       "<table>\n",
       "<thead><tr><th scope=col>Dates</th><th scope=col>Close_Price</th></tr></thead>\n",
       "<tbody>\n",
       "\t<tr><td>1997-10-20</td><td>0.1808    </td></tr>\n",
       "\t<tr><td>1997-10-21</td><td>0.1813    </td></tr>\n",
       "</tbody>\n",
       "</table>\n"
      ],
      "text/latex": [
       "\\begin{tabular}{r|ll}\n",
       " Dates & Close\\_Price\\\\\n",
       "\\hline\n",
       "\t 1997-10-20 & 0.1808    \\\\\n",
       "\t 1997-10-21 & 0.1813    \\\\\n",
       "\\end{tabular}\n"
      ],
      "text/markdown": [
       "\n",
       "Dates | Close_Price | \n",
       "|---|---|\n",
       "| 1997-10-20 | 0.1808     | \n",
       "| 1997-10-21 | 0.1813     | \n",
       "\n",
       "\n"
      ],
      "text/plain": [
       "  Dates      Close_Price\n",
       "1 1997-10-20 0.1808     \n",
       "2 1997-10-21 0.1813     "
      ]
     },
     "metadata": {},
     "output_type": "display_data"
    },
    {
     "data": {
      "text/html": [
       "<table>\n",
       "<thead><tr><th scope=col>Dates</th><th scope=col>Close_Price</th></tr></thead>\n",
       "<tbody>\n",
       "\t<tr><td>2018-11-19</td><td>5.3125    </td></tr>\n",
       "\t<tr><td>2018-11-20</td><td>5.3871    </td></tr>\n",
       "</tbody>\n",
       "</table>\n"
      ],
      "text/latex": [
       "\\begin{tabular}{r|ll}\n",
       " Dates & Close\\_Price\\\\\n",
       "\\hline\n",
       "\t 2018-11-19 & 5.3125    \\\\\n",
       "\t 2018-11-20 & 5.3871    \\\\\n",
       "\\end{tabular}\n"
      ],
      "text/markdown": [
       "\n",
       "Dates | Close_Price | \n",
       "|---|---|\n",
       "| 2018-11-19 | 5.3125     | \n",
       "| 2018-11-20 | 5.3871     | \n",
       "\n",
       "\n"
      ],
      "text/plain": [
       "  Dates      Close_Price\n",
       "1 2018-11-19 5.3125     \n",
       "2 2018-11-20 5.3871     "
      ]
     },
     "metadata": {},
     "output_type": "display_data"
    },
    {
     "data": {
      "text/plain": [
       "     Dates                      Close_Price    \n",
       " Min.   :1997-10-20 00:00:00   Min.   :0.1808  \n",
       " 1st Qu.:2003-02-07 00:00:00   1st Qu.:1.3212  \n",
       " Median :2008-05-14 00:00:00   Median :1.5123  \n",
       " Mean   :2008-05-12 22:52:28   Mean   :1.7428  \n",
       " 3rd Qu.:2013-08-15 00:00:00   3rd Qu.:1.9491  \n",
       " Max.   :2018-11-20 00:00:00   Max.   :6.8838  "
      ]
     },
     "metadata": {},
     "output_type": "display_data"
    }
   ],
   "source": [
    "library(repr)\n",
    "library(readxl)\n",
    "historicalset <- read_excel(\"USDTRY_Historical_Data.xlsx\", skip = 3, col_types = c(\"date\", \"numeric\"), col_names = c(\"Dates\",\"Close_Price\"))\n",
    "head(historicalset,2)\n",
    "tail(historicalset,2)\n",
    "summary(historicalset)"
   ]
  },
  {
   "cell_type": "markdown",
   "metadata": {},
   "source": [
    "# Preparing Dataset\n",
    "Instead of using the daily closing prices, we will investigate the closing price of the first and last day of weekly by using __log return__ analysis. \n",
    "\n",
    "### Log Returns Analysis\n",
    "Instead of closing price series, log returns will be used for further statistical tests and calculations.\n",
    "\n",
    "Advantage of returns compared to closing prices is normalization and it enables evaluation of analytic relationships among variables despite originating from price series of varied values by measuring all variables in a comparable metric.\n",
    "\n",
    "$$ R_t = \\frac{P_t - P_{t-1}}{P_{t-1}} $$\n",
    "\n",
    "The Taylor expansion for $ \\log{(1+x)} $ is $ x-\\frac{x^2}{2}+\\frac{x^3}{3} + O(x^4) $ \n",
    "\n",
    "When x is a small number, $ \\log{(1+x)} \\approx x $ \n",
    "\n",
    "Substituting $ R_t $ gives us $ \\log{(1+R_t)} \\approx R_t $\n",
    "\n",
    "\\begin{align}\n",
    "\\log{(1 + R_t)}= & \\log{1+\\frac{P_t}{P_{t-1}-1}} \\approx R_t \\\\\n",
    "= & \\log{\\frac{P_t}{P_{t-1}}} = =\\log{P_t} - \\log{P_{t-1}} \\approx R_t\n",
    "\\end{align}\n",
    "\n",
    "<table>\n",
    "    <tr>\n",
    "        <td> $R_t$ = Returns at t</td>\n",
    "        <td> $P_t$ = Closing price at t</td>\n",
    "    </tr>\n",
    "</table>\n"
   ]
  },
  {
   "cell_type": "markdown",
   "metadata": {},
   "source": [
    "\n",
    "Now we are going to save our dataset *logReturn* as a new time series by using **xts** code in the *quantmod* package. By the way, The *lubridate* package is usefull to get weekly data set."
   ]
  },
  {
   "cell_type": "code",
   "execution_count": 4,
   "metadata": {},
   "outputs": [
    {
     "data": {
      "text/plain": [
       "           W.Open W.High  W.Low W.Close\n",
       "1997-10-24 0.1808 0.1826 0.1808  0.1826\n",
       "1997-10-31 0.1828 0.1828 0.1816  0.1821\n",
       "1997-11-07 0.1839 0.1840 0.1832  0.1832\n",
       "1997-11-14 0.1851 0.1875 0.1851  0.1875\n",
       "1997-11-21 0.1889 0.1911 0.1889  0.1906"
      ]
     },
     "metadata": {},
     "output_type": "display_data"
    },
    {
     "data": {
      "text/plain": [
       "              LogReturn\n",
       "1997-10-24  0.009906520\n",
       "1997-10-31 -0.003836672\n",
       "1997-11-07 -0.003813679\n",
       "1997-11-14  0.012882626\n",
       "1997-11-21  0.008959217\n",
       "1997-11-28  0.022751757"
      ]
     },
     "metadata": {},
     "output_type": "display_data"
    }
   ],
   "source": [
    "library(lubridate)\n",
    "library(quantmod)\n",
    "data.xts <- xts(historicalset$Close_Price, order.by = as.Date(historicalset$Dates))\n",
    "weeklydata <- to.weekly(data.xts, name = \"W\")\n",
    "head(weeklydata,5)\n",
    "logReturn <- as.xts(log(weeklydata$W.Close)-log(weeklydata$W.Open))\n",
    "dimnames(logReturn)[2] <- \"LogReturn\"\n",
    "head(logReturn)"
   ]
  },
  {
   "cell_type": "code",
   "execution_count": 5,
   "metadata": {},
   "outputs": [
    {
     "data": {},
     "metadata": {},
     "output_type": "display_data"
    },
    {
     "data": {
      "image/png": "[encoded data removed]",
      "text/plain": [
       "plot without title"
      ]
     },
     "metadata": {},
     "output_type": "display_data"
    }
   ],
   "source": [
    "options(repr.plot.width = 10, repr.plot.height = 6)\n",
    "plot(logReturn)"
   ]
  },
  {
   "cell_type": "markdown",
   "metadata": {},
   "source": [
    "## Split logReturn dataset into three part\n",
    "As we see on the above figure of logReturn dataset, there are jumps on the around 2001, 2009 and 2018. And also, roughly there is  difference variation between on the time interval 1998-2002,2002-2012 and 2012-2018. So we can divide all risk dataset as time series into three different time interval"
   ]
  },
  {
   "cell_type": "code",
   "execution_count": 6,
   "metadata": {},
   "outputs": [],
   "source": [
    "Part1 <- window(logReturn, start= \"1997-10-24\", end =\"2000-10-30\")\n",
    "Part2 <- window(logReturn, start= \"2000-10-30\", end =\"2009-12-31\")\n",
    "Part3 <- window(logReturn, start= \"2010-01-01\", end =\"2018-07-20\")"
   ]
  },
  {
   "cell_type": "code",
   "execution_count": 7,
   "metadata": {},
   "outputs": [
    {
     "data": {},
     "metadata": {},
     "output_type": "display_data"
    },
    {
     "data": {},
     "metadata": {},
     "output_type": "display_data"
    },
    {
     "data": {},
     "metadata": {},
     "output_type": "display_data"
    },
    {
     "data": {
      "image/png": "[encoded data removed]",
      "text/plain": [
       "plot without title"
      ]
     },
     "metadata": {},
     "output_type": "display_data"
    }
   ],
   "source": [
    "options(repr.plot.width = 10, repr.plot.height = 3.5)\n",
    "par(mfrow=c(1,3))\n",
    "chart_Series(Part1)\n",
    "chart_Series(Part2)\n",
    "chart_Series(Part3)"
   ]
  },
  {
   "cell_type": "markdown",
   "metadata": {},
   "source": [
    "# To test our datasets whether to be stationary or not \n",
    "\n",
    "Generally, a p-value of less than 0.05 means you can reject the null hypothesis that there is a unit root of a univariate time series ( non-stationary time series ). And You can accept the alternative hypothesis that  the time series is stationary. The ADF statistic is negative number. If the test statistic of adf.test is more negative than the its table value, we can reject the null hypothesis. The more negative test statistic means that there is  the stronger the evidence for rejecting the null hypothesis. \n",
    "\n",
    "<img src=\"https://www.statisticshowto.datasciencecentral.com/wp-content/uploads/2016/06/df-critical.png\">\n",
    "The table is taken from the website https://www.statisticshowto.datasciencecentral.com/adf-augmented-dickey-fuller-test/"
   ]
  },
  {
   "cell_type": "code",
   "execution_count": 9,
   "metadata": {},
   "outputs": [
    {
     "data": {
      "text/plain": [
       "\n",
       "\tAugmented Dickey-Fuller Test\n",
       "\n",
       "data:  Part1\n",
       "Dickey-Fuller = -3.849, Lag order = 5, p-value = 0.01846\n",
       "alternative hypothesis: stationary\n"
      ]
     },
     "metadata": {},
     "output_type": "display_data"
    },
    {
     "name": "stderr",
     "output_type": "stream",
     "text": [
      "Warning message in adf.test(Part2):\n",
      "\"p-value smaller than printed p-value\""
     ]
    },
    {
     "data": {
      "text/plain": [
       "\n",
       "\tAugmented Dickey-Fuller Test\n",
       "\n",
       "data:  Part2\n",
       "Dickey-Fuller = -7.5361, Lag order = 7, p-value = 0.01\n",
       "alternative hypothesis: stationary\n"
      ]
     },
     "metadata": {},
     "output_type": "display_data"
    },
    {
     "name": "stderr",
     "output_type": "stream",
     "text": [
      "Warning message in adf.test(Part3):\n",
      "\"p-value smaller than printed p-value\""
     ]
    },
    {
     "data": {
      "text/plain": [
       "\n",
       "\tAugmented Dickey-Fuller Test\n",
       "\n",
       "data:  Part3\n",
       "Dickey-Fuller = -7.2207, Lag order = 7, p-value = 0.01\n",
       "alternative hypothesis: stationary\n"
      ]
     },
     "metadata": {},
     "output_type": "display_data"
    }
   ],
   "source": [
    "library(tseries)\n",
    "adf.test(Part1)\n",
    "adf.test(Part2)\n",
    "adf.test(Part3)"
   ]
  },
  {
   "cell_type": "markdown",
   "metadata": {},
   "source": [
    "- For the Part1 dataset, The test statistic is -3.849 which less than the value of table with the p-value 0.018. This means that There is an enough evidence to reject the null hypothesis, and so We can accept the our dataset is **stationary**.\n",
    "- For the Part2 dataset, The test statistic is -7.5361 with the p-value less than 0.01. This means that There is an enough evidence to reject the null hypothesis, and so We can accept the our dataset is **stationary**.\n",
    "- For the Part3 dataset, The test statistic is -7.2207 with the p-value less than 0.01. This means that There is an enough evidence to reject the null hypothesis, and so We can accept the our dataset is **stationary**.\n",
    "\n",
    "Also, Test statistic Dickey-Fuller is less than the critical value corresponding to statistically significane of level **-2.88**. So we reject to the null hypothesis and accept to alternative haypothesis, that is Our dataset is stationary. \n",
    "\n",
    "( Fuller, W. A. (1976). Introduction to Statistical Time Series. New York: John Wiley and Sons. )"
   ]
  },
  {
   "cell_type": "markdown",
   "metadata": {},
   "source": [
    "## Moving Average Processes MA(q)\n",
    "\n",
    "$\\{X_t\\}$ is a moving average process of order q if \n",
    "\\begin{equation}\n",
    "X_t=Z_t+\\theta_1 Z_{t-1}+\\cdots+\\theta_q Z_{t-q}\n",
    "\\end{equation}\n",
    "where\n",
    "\\begin{equation}\n",
    "Z_t\\sim WN(0,\\sigma^2)\n",
    "\\end{equation}\n",
    "and $\\theta_1,\\dots,\\theta_q$ are constants.\n",
    "\n",
    "Or we can rewrite the above definition as operotor\n",
    "\n",
    "\\begin{equation}\n",
    "X_t=\\theta(B)Z_t \\qquad \\mbox{where}\\quad \\theta(B)= 1+\\theta_1 B+ \\theta_2 B^2 + \\cdots + \\theta_q B^q\n",
    "\\end{equation}\n",
    "\n",
    "the shift operator $B^k Z_t = Z_{t-k}$.\n",
    " \n",
    "Generally, we choose the model with $|\\theta|<1$"
   ]
  },
  {
   "cell_type": "markdown",
   "metadata": {},
   "source": [
    "## Autoregressive Processes AR(p)\n",
    "\n",
    "An autoregressive process of order p is \n",
    "\n",
    "\\begin{equation}\n",
    "X_t = \\phi_1 X_{t-1} + \\phi_2 X_{t-2} + \\cdots + \\phi_p X_{t-p} + Z_t\n",
    "\\end{equation}\n",
    "\n",
    "where $\\{Z_t\\} \\sim WN(0,\\sigma^2)$ and $Z_t$ is uncorrelated with $X_s$ for each $ s<t $.\n",
    "\n",
    "\n",
    "If E$(X_t)=\\mu \\neq 0$, then we replace $X_t$ by $X_t - \\mu$ then we obtain\n",
    "\n",
    "\\begin{equation}\n",
    "X_t-\\mu = \\phi_1 (X_{t-1}-\\mu) + \\phi_2 (X_{t-2}-\\mu) + \\cdots + \\phi_p (X_{t-p}-\\mu) + Z_t\n",
    "\\end{equation}\n",
    "\n",
    "then we have \n",
    "\n",
    "\\begin{equation}\n",
    "X_t = \\alpha + \\phi_1 X_{t-1} + \\phi_2 X_{t-2} + \\cdots + \\phi_p X_{t-p} + Z_t\n",
    "\\end{equation}\n",
    "\n",
    "where  $\\alpha = \\mu(1-\\phi_1-\\cdots-\\phi_p)$.\n",
    "\n",
    "Writing the model in the other form\n",
    "\n",
    "\\begin{equation}\n",
    "X_t - \\phi_1 X_{t-1} - \\phi_2 X_{t-2} - \\cdots - \\phi_p X_{t-p} = Z_t\n",
    "\\end{equation}\n",
    "\n",
    "Apllying the shift operator $BX_t=X_{t-1}$\n",
    "\n",
    "\\begin{equation}\n",
    "\\underbrace{(1- \\phi_1 B + \\phi_2 B^2 - \\cdots - \\phi_p B^p)}_ {\\mbox{autoregressive operator } \\phi(B)} X_t = Z_t\n",
    "\\end{equation}"
   ]
  },
  {
   "cell_type": "markdown",
   "metadata": {},
   "source": [
    "## Autoregressive Integrated Moving Average Process ARIMA(p,d,q)\n",
    "\n",
    "A process $\\{X_t\\}$ is said to follow an Integrated ARMA model, denoted by **ARIMA(p,d,q)**, if\n",
    "\n",
    "\\begin{equation}\n",
    "\\nabla ^d X_t = (1-B)^d X_t\n",
    "\\end{equation}\n",
    "\n",
    "is ARMA(p,q). We write model with integration parameter $d$ is a nonnegative integer as\n",
    "\n",
    "\\begin{equation}\n",
    "\\phi(B)(1-B)^d X_t = \\theta(B)Z_t, \\qquad Z_t \\sim WN(0,\\sigma^2).\n",
    "\\end{equation}\n",
    "\n"
   ]
  },
  {
   "cell_type": "markdown",
   "metadata": {},
   "source": [
    "## Auto.ARIMA \n",
    "To determine the deterministic part of each of the datasets, We will utilize the ARIMA model.  Auto.arima model returns best ARIMA model according to either AIC, AICc or BIC value.\n",
    "Auto ARIMA takes into account the AIC and BIC values generated (as you can see in the code) to determine the best combination of parameters. AIC (Akaike Information Criterion) and BIC (Bayesian Information Criterion) values are estimators to compare models. The lower these values, the better is the model."
   ]
  },
  {
   "cell_type": "code",
   "execution_count": 10,
   "metadata": {},
   "outputs": [
    {
     "name": "stdout",
     "output_type": "stream",
     "text": [
      "Series: Part1 \n",
      "ARIMA(0,0,0) with non-zero mean \n",
      "\n",
      "Coefficients:\n",
      "        mean\n",
      "      0.0064\n",
      "s.e.  0.0006\n",
      "\n",
      "sigma^2 estimated as 4.842e-05:  log likelihood=554.12\n",
      "AIC=-1104.23   AICc=-1104.15   BIC=-1098.13\n",
      "\n",
      "Training set error measures:\n",
      "                       ME        RMSE         MAE  MPE MAPE      MASE      ACF1\n",
      "Training set 2.057467e-18 0.006936449 0.005659155 -Inf  Inf 0.7048782 0.0129284\n",
      "[1] \"##################################################################################\"\n",
      "Series: Part2 \n",
      "ARIMA(2,0,2) with zero mean \n",
      "\n",
      "Coefficients:\n",
      "         ar1      ar2      ma1     ma2\n",
      "      1.1558  -0.5156  -1.3168  0.7290\n",
      "s.e.  0.1176   0.1277   0.0944  0.1035\n",
      "\n",
      "sigma^2 estimated as 0.0008454:  log likelihood=1012.61\n",
      "AIC=-2015.21   AICc=-2015.08   BIC=-1994.37\n",
      "\n",
      "Training set error measures:\n",
      "                       ME      RMSE        MAE MPE MAPE      MASE        ACF1\n",
      "Training set 0.0007971769 0.0289535 0.01487014 NaN  Inf 0.6197023 -0.03299916\n",
      "[1] \"##################################################################################\"\n",
      "Series: Part3 \n",
      "ARIMA(0,0,0) with non-zero mean \n",
      "\n",
      "Coefficients:\n",
      "        mean\n",
      "      0.0017\n",
      "s.e.  0.0007\n",
      "\n",
      "sigma^2 estimated as 0.0002027:  log likelihood=1263.96\n",
      "AIC=-2523.92   AICc=-2523.89   BIC=-2515.72\n",
      "\n",
      "Training set error measures:\n",
      "                        ME       RMSE       MAE  MPE MAPE     MASE       ACF1\n",
      "Training set -1.436689e-19 0.01422255 0.0109969 -Inf  Inf 0.708715 0.02305716\n"
     ]
    }
   ],
   "source": [
    "library(forecast)\n",
    "Model1 <- auto.arima(Part1)\n",
    "Model2 <- auto.arima(Part2)\n",
    "Model3 <- auto.arima(Part3)\n",
    "summary(Model1)\n",
    "print(\"##################################################################################\")\n",
    "summary(Model2)\n",
    "print(\"##################################################################################\")\n",
    "summary(Model3)"
   ]
  },
  {
   "cell_type": "code",
   "execution_count": 11,
   "metadata": {},
   "outputs": [
    {
     "data": {
      "image/png": "[encoded data removed]",
      "text/plain": [
       "Plot with title \"Histogram of Model3$residuals\""
      ]
     },
     "metadata": {},
     "output_type": "display_data"
    }
   ],
   "source": [
    "options(repr.plot.width = 10, repr.plot.height = 3.5)\n",
    "par(mfrow=c(1,3))\n",
    "hist(Model1$residuals)\n",
    "hist(Model2$residuals)\n",
    "hist(Model3$residuals)"
   ]
  },
  {
   "cell_type": "code",
   "execution_count": 12,
   "metadata": {},
   "outputs": [
    {
     "name": "stdout",
     "output_type": "stream",
     "text": [
      "Length of residuals of Model1: 156\n",
      "Length of residuals of Model2: 477\n",
      "Length of residuals of Model3: 446\n"
     ]
    }
   ],
   "source": [
    "cat(sprintf(\"Length of residuals of Model1: %d\\n\", length(Model1$residuals)))\n",
    "cat(sprintf(\"Length of residuals of Model2: %d\\n\", length(Model2$residuals)))\n",
    "cat(sprintf(\"Length of residuals of Model3: %d\\n\", length(Model3$residuals)))\n",
    "#wd <- getwd()\n",
    "#message(sprintf(\"Current working dir: %s\\n\", wd))"
   ]
  },
  {
   "cell_type": "markdown",
   "metadata": {},
   "source": [
    "# To test normality Shapiro.test()\n",
    "\n",
    "The Shapiro-Wilk test is a test of normality with the null hypothesis is that the data came from a normally distributed population.\n",
    "\n",
    "**Properties of the test statistic W ** \n",
    "\n",
    "The value of test statistic W is between 0 and 1. W is a very similar to the correlation coefficient of a normal probability plot. \n",
    "* If p value greater than 0.05 then we have failure to reject the null hypothesis that is **not proof* that the distribution is Normal. It means that the data does not give enough evidence to reject the assumption of normality\n",
    "\n",
    "**Kolmogorov-Smirnov test**\n",
    "\n",
    "The Kolmogorov–Smirnov test is a nonparametric test of the equality of continuous, one-dimensional probability distributions that can be used to compare a sample with a reference probability distribution, or to compare two samples.\n",
    "\n",
    "The D statistic is the absolute max distance (supremum) between the CDFs of the two samples. The closer this number is to 0 the more likely it is that the two samples were drawn from the same distribution."
   ]
  },
  {
   "cell_type": "code",
   "execution_count": 13,
   "metadata": {},
   "outputs": [
    {
     "name": "stderr",
     "output_type": "stream",
     "text": [
      "Warning message in ks.test(Model1$residuals, pnorm):\n",
      "\"ties should not be present for the Kolmogorov-Smirnov test\""
     ]
    },
    {
     "data": {
      "text/plain": [
       "\n",
       "\tOne-sample Kolmogorov-Smirnov test\n",
       "\n",
       "data:  Model1$residuals\n",
       "D = 0.49286, p-value < 2.2e-16\n",
       "alternative hypothesis: two-sided\n"
      ]
     },
     "metadata": {},
     "output_type": "display_data"
    },
    {
     "data": {
      "text/plain": [
       "\n",
       "\tOne-sample Kolmogorov-Smirnov test\n",
       "\n",
       "data:  Model2$residuals\n",
       "D = 0.47425, p-value < 2.2e-16\n",
       "alternative hypothesis: two-sided\n"
      ]
     },
     "metadata": {},
     "output_type": "display_data"
    },
    {
     "name": "stderr",
     "output_type": "stream",
     "text": [
      "Warning message in ks.test(Model3$residuals, pnorm):\n",
      "\"ties should not be present for the Kolmogorov-Smirnov test\""
     ]
    },
    {
     "data": {
      "text/plain": [
       "\n",
       "\tOne-sample Kolmogorov-Smirnov test\n",
       "\n",
       "data:  Model3$residuals\n",
       "D = 0.48461, p-value < 2.2e-16\n",
       "alternative hypothesis: two-sided\n"
      ]
     },
     "metadata": {},
     "output_type": "display_data"
    }
   ],
   "source": [
    "set.seed(5-3-2019)\n",
    "ks.test(Model1$residuals,pnorm)\n",
    "ks.test(Model2$residuals,pnorm)\n",
    "ks.test(Model3$residuals,pnorm)"
   ]
  },
  {
   "cell_type": "markdown",
   "metadata": {},
   "source": [
    "We can not say anything about normality. Because, The test statistic 0 $\\leq $ D $\\leq$ 1. When D is closer 0, the difference between the emprical cumulative distribution of dataset and normal distribution is so. "
   ]
  },
  {
   "cell_type": "code",
   "execution_count": 14,
   "metadata": {},
   "outputs": [
    {
     "data": {
      "text/plain": [
       "\n",
       "\tShapiro-Wilk normality test\n",
       "\n",
       "data:  Model1$residuals\n",
       "W = 0.99576, p-value = 0.9367\n"
      ]
     },
     "metadata": {},
     "output_type": "display_data"
    },
    {
     "data": {
      "text/plain": [
       "\n",
       "\tShapiro-Wilk normality test\n",
       "\n",
       "data:  Model2$residuals\n",
       "W = 0.57069, p-value < 2.2e-16\n"
      ]
     },
     "metadata": {},
     "output_type": "display_data"
    },
    {
     "data": {
      "text/plain": [
       "\n",
       "\tShapiro-Wilk normality test\n",
       "\n",
       "data:  Model3$residuals\n",
       "W = 0.98654, p-value = 0.0003825\n"
      ]
     },
     "metadata": {},
     "output_type": "display_data"
    }
   ],
   "source": [
    "shapiro.test(Model1$residuals)\n",
    "shapiro.test(Model2$residuals)\n",
    "shapiro.test(Model3$residuals)"
   ]
  },
  {
   "cell_type": "markdown",
   "metadata": {},
   "source": [
    "- For the case Part1, Since p-value is equal to 0.9367 and the value of test statistic is W =0.99576, we definitely say that we are not rely on our test. It can be form normal distribution or not.\n",
    "\n",
    "- For the case Part2, Since p-value is equal to approximately 0 and the value of test statistic is W =0.57069, we may say that it is not from normal distiribution.\n",
    "\n",
    "- For the last one, Since p-value is approximately 0.0004 and the test statistic W = .98654 is closer than the others, we can conclude that it's distiribution is from normal distiribution."
   ]
  },
  {
   "cell_type": "markdown",
   "metadata": {},
   "source": [
    "## Johnson Tranformation"
   ]
  },
  {
   "cell_type": "code",
   "execution_count": 16,
   "metadata": {},
   "outputs": [],
   "source": [
    "library(Johnson)\n",
    "Johndata1 <- RE.Johnson(Model1$residuals)\n",
    "Johndata2 <- RE.Johnson(Model2$residuals)\n",
    "Johndata3 <- RE.Johnson(Model3$residuals)"
   ]
  },
  {
   "cell_type": "code",
   "execution_count": 17,
   "metadata": {},
   "outputs": [
    {
     "data": {
      "text/plain": [
       "\n",
       "\tShapiro-Wilk normality test\n",
       "\n",
       "data:  Johndata1$transformed\n",
       "W = 0.99595, p-value = 0.9488\n"
      ]
     },
     "metadata": {},
     "output_type": "display_data"
    },
    {
     "data": {
      "text/plain": [
       "\n",
       "\tShapiro-Wilk normality test\n",
       "\n",
       "data:  Johndata2$transformed\n",
       "W = 0.99559, p-value = 0.2\n"
      ]
     },
     "metadata": {},
     "output_type": "display_data"
    },
    {
     "data": {
      "text/plain": [
       "\n",
       "\tShapiro-Wilk normality test\n",
       "\n",
       "data:  Johndata3$transformed\n",
       "W = 0.9958, p-value = 0.2813\n"
      ]
     },
     "metadata": {},
     "output_type": "display_data"
    }
   ],
   "source": [
    "shapiro.test(Johndata1$transformed)\n",
    "shapiro.test(Johndata2$transformed)\n",
    "shapiro.test(Johndata3$transformed)"
   ]
  },
  {
   "cell_type": "code",
   "execution_count": 18,
   "metadata": {},
   "outputs": [
    {
     "name": "stderr",
     "output_type": "stream",
     "text": [
      "Warning message in ks.test(Johndata1$transformed, pnorm):\n",
      "\"ties should not be present for the Kolmogorov-Smirnov test\""
     ]
    },
    {
     "data": {
      "text/plain": [
       "\n",
       "\tOne-sample Kolmogorov-Smirnov test\n",
       "\n",
       "data:  Johndata1$transformed\n",
       "D = 0.038735, p-value = 0.9734\n",
       "alternative hypothesis: two-sided\n"
      ]
     },
     "metadata": {},
     "output_type": "display_data"
    },
    {
     "data": {
      "text/plain": [
       "\n",
       "\tOne-sample Kolmogorov-Smirnov test\n",
       "\n",
       "data:  Johndata2$transformed\n",
       "D = 0.02357, p-value = 0.9537\n",
       "alternative hypothesis: two-sided\n"
      ]
     },
     "metadata": {},
     "output_type": "display_data"
    },
    {
     "name": "stderr",
     "output_type": "stream",
     "text": [
      "Warning message in ks.test(Johndata3$transformed, pnorm):\n",
      "\"ties should not be present for the Kolmogorov-Smirnov test\""
     ]
    },
    {
     "data": {
      "text/plain": [
       "\n",
       "\tOne-sample Kolmogorov-Smirnov test\n",
       "\n",
       "data:  Johndata3$transformed\n",
       "D = 0.028814, p-value = 0.8528\n",
       "alternative hypothesis: two-sided\n"
      ]
     },
     "metadata": {},
     "output_type": "display_data"
    }
   ],
   "source": [
    "ks.test(Johndata1$transformed,pnorm)\n",
    "ks.test(Johndata2$transformed,pnorm)\n",
    "ks.test(Johndata3$transformed,pnorm)"
   ]
  },
  {
   "cell_type": "code",
   "execution_count": 19,
   "metadata": {},
   "outputs": [
    {
     "data": {
      "image/png": "[encoded data removed]",
      "text/plain": [
       "Plot with title \"Histogram of Johndata3$transformed\""
      ]
     },
     "metadata": {},
     "output_type": "display_data"
    }
   ],
   "source": [
    "par(mfrow=c(1,3))\n",
    "hist(Johndata1$transformed, probability = T, col = \"skyblue\")\n",
    "hist(Johndata2$transformed, probability = T, col = \"skyblue\")\n",
    "hist(Johndata3$transformed, probability = T, col = \"skyblue\")"
   ]
  },
  {
   "cell_type": "code",
   "execution_count": 20,
   "metadata": {},
   "outputs": [
    {
     "data": {
      "image/png": "[encoded data removed]",
      "text/plain": [
       "Plot with title \"Johnson Trans. of Part3 residuals\""
      ]
     },
     "metadata": {},
     "output_type": "display_data"
    }
   ],
   "source": [
    "par(mfrow=c(1,3))\n",
    "qqnorm(Johndata1$transformed, main =\"Johnson Trans. of Part1 residuals\")\n",
    "qqnorm(Johndata2$transformed, main =\"Johnson Trans. of Part2 residuals\")\n",
    "qqnorm(Johndata3$transformed, main =\"Johnson Trans. of Part3 residuals\")"
   ]
  },
  {
   "cell_type": "code",
   "execution_count": 21,
   "metadata": {
    "scrolled": true
   },
   "outputs": [
    {
     "data": {
      "image/png": "[encoded data removed]",
      "text/plain": [
       "Plot with title \"Series  Johndata3$transformed^2\""
      ]
     },
     "metadata": {},
     "output_type": "display_data"
    }
   ],
   "source": [
    "options(repr.plot.width = 8, repr.plot.height = 10)\n",
    "par(mfrow=c(4,3))\n",
    "acf(Johndata1$transformed)\n",
    "pacf(Johndata1$transformed)\n",
    "acf(Johndata2$transformed)\n",
    "pacf(Johndata2$transformed)\n",
    "acf(Johndata3$transformed)\n",
    "pacf(Johndata3$transformed)\n",
    "acf(Johndata1$transformed^2)\n",
    "pacf(Johndata1$transformed^2)\n",
    "acf(Johndata2$transformed^2)\n",
    "pacf(Johndata2$transformed^2)\n",
    "acf(Johndata3$transformed^2)\n",
    "pacf(Johndata3$transformed^2)"
   ]
  },
  {
   "cell_type": "code",
   "execution_count": 23,
   "metadata": {},
   "outputs": [
    {
     "name": "stdout",
     "output_type": "stream",
     "text": [
      "Q(m) of squared series(LM test):  \n",
      "Test statistic:  5.586858  p-value:  0.848698 \n",
      "Rank-based Test:  \n",
      "Test statistic:  13.2239  p-value:  0.2114214 \n",
      "Q(m) of squared series(LM test):  \n",
      "Test statistic:  78.06744  p-value:  1.199596e-12 \n",
      "Rank-based Test:  \n",
      "Test statistic:  43.23623  p-value:  4.511919e-06 \n",
      "Q(m) of squared series(LM test):  \n",
      "Test statistic:  26.2342  p-value:  0.003437649 \n",
      "Rank-based Test:  \n",
      "Test statistic:  25.78999  p-value:  0.004033142 \n"
     ]
    }
   ],
   "source": [
    "#install.packages(\"MTS\", repos= \"https://cran.us.r-project.org\")\n",
    "library(MTS)\n",
    "archTest(coredata(Johndata1$transformed))\n",
    "archTest(coredata(Johndata2$transformed))\n",
    "archTest(coredata(Johndata3$transformed))"
   ]
  },
  {
   "cell_type": "markdown",
   "metadata": {},
   "source": [
    "### archTest says that the dataset transformed from Model2residuals and Model3residuals have conditionally heteroscedasticity in the variance process."
   ]
  },
  {
   "cell_type": "markdown",
   "metadata": {},
   "source": [
    "# Apply to orginal data without splitting"
   ]
  },
  {
   "cell_type": "markdown",
   "metadata": {},
   "source": [
    "# Stationary"
   ]
  },
  {
   "cell_type": "code",
   "execution_count": 24,
   "metadata": {},
   "outputs": [
    {
     "name": "stderr",
     "output_type": "stream",
     "text": [
      "Warning message in adf.test(logReturn):\n",
      "\"p-value smaller than printed p-value\""
     ]
    },
    {
     "data": {
      "text/plain": [
       "\n",
       "\tAugmented Dickey-Fuller Test\n",
       "\n",
       "data:  logReturn\n",
       "Dickey-Fuller = -9.8881, Lag order = 10, p-value = 0.01\n",
       "alternative hypothesis: stationary\n"
      ]
     },
     "metadata": {},
     "output_type": "display_data"
    }
   ],
   "source": [
    "adf.test(logReturn)"
   ]
  },
  {
   "cell_type": "code",
   "execution_count": 25,
   "metadata": {},
   "outputs": [
    {
     "name": "stdout",
     "output_type": "stream",
     "text": [
      "Series: logReturn \n",
      "ARIMA(0,1,3) \n",
      "\n",
      "Coefficients:\n",
      "          ma1     ma2      ma3\n",
      "      -1.1481  0.2179  -0.0607\n",
      "s.e.   0.0306  0.0464   0.0283\n",
      "\n",
      "sigma^2 estimated as 0.0005287:  log likelihood=2579.03\n",
      "AIC=-5150.07   AICc=-5150.03   BIC=-5130.07\n",
      "\n",
      "Training set error measures:\n",
      "                        ME       RMSE        MAE MPE MAPE      MASE        ACF1\n",
      "Training set -0.0004035339 0.02295048 0.01275464 NaN  Inf 0.6736944 0.001952453\n"
     ]
    }
   ],
   "source": [
    "full.model <- auto.arima(logReturn)\n",
    "summary(full.model)"
   ]
  },
  {
   "cell_type": "markdown",
   "metadata": {},
   "source": [
    "###  Normality"
   ]
  },
  {
   "cell_type": "code",
   "execution_count": 26,
   "metadata": {},
   "outputs": [
    {
     "data": {
      "text/plain": [
       "\n",
       "\tShapiro-Wilk normality test\n",
       "\n",
       "data:  full.model$residuals\n",
       "W = 0.64998, p-value < 2.2e-16\n"
      ]
     },
     "metadata": {},
     "output_type": "display_data"
    }
   ],
   "source": [
    "shapiro.test(full.model$residuals)"
   ]
  },
  {
   "cell_type": "markdown",
   "metadata": {},
   "source": [
    "### Transformation"
   ]
  },
  {
   "cell_type": "code",
   "execution_count": 27,
   "metadata": {},
   "outputs": [
    {
     "data": {
      "text/plain": [
       "\n",
       "\tShapiro-Wilk normality test\n",
       "\n",
       "data:  John.trans\n",
       "W = 0.99698, p-value = 0.03476\n"
      ]
     },
     "metadata": {},
     "output_type": "display_data"
    }
   ],
   "source": [
    "John.trans <- RE.Johnson(full.model$residuals)$transformed\n",
    "shapiro.test(John.trans)"
   ]
  },
  {
   "cell_type": "code",
   "execution_count": 28,
   "metadata": {},
   "outputs": [
    {
     "data": {
      "image/png": "[encoded data removed]",
      "text/plain": [
       "Plot with title \"Histogram of John.trans\""
      ]
     },
     "metadata": {},
     "output_type": "display_data"
    }
   ],
   "source": [
    "options(repr.plot.height = 5, repr.plot.width = 10)\n",
    "par(mfrow=c(1,2))\n",
    "qqnorm(John.trans)\n",
    "qqline(John.trans)\n",
    "hist(John.trans)"
   ]
  },
  {
   "cell_type": "markdown",
   "metadata": {},
   "source": [
    "## References\n",
    " * Brockwell, P. R. Davis (2016). _An introduction to Time Series and Forecasting. 3th Edition. Springer_\n",
    " * The course MTH6139 Time Series Lecturer notes in Queen Mary University of London."
   ]
  }
 ],
 "metadata": {
  "kernelspec": {
   "display_name": "R",
   "language": "R",
   "name": "ir"
  },
  "language_info": {
   "codemirror_mode": "r",
   "file_extension": ".r",
   "mimetype": "text/x-r-source",
   "name": "R",
   "pygments_lexer": "r",
   "version": "3.5.1"
  }
 },
 "nbformat": 4,
 "nbformat_minor": 2
}
