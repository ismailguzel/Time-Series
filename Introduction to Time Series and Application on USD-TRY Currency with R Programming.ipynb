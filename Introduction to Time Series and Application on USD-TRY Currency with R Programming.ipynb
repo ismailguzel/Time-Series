{
 "cells": [
  {
   "cell_type": "markdown",
   "metadata": {},
   "source": [
    "# Introduction to Time Series and Application on USD-TRY Currency with R Programming\n",
    "\n",
    "$$\\mbox{Ismail GUZEL}$$\n",
    "$$\\mathrm{\\textit{iguzel@itu.edu.tr}}$$"
   ]
  },
  {
   "cell_type": "markdown",
   "metadata": {},
   "source": [
    "## Abstract\n",
    "We will briefly introduce to the theory of time series. After we decide to whether dataset is stationary or non-stationary, we will build the model for the time series. Then we suggest to use the __log return__ analysis for further the statistical tests and calculations. After splitting the our dataset as training and test set,  we will test our model. Also, By using ARIMA models, we will obtain the prediction of currency for the next year. We will use the R programming language for all applications."
   ]
  },
  {
   "cell_type": "markdown",
   "metadata": {},
   "source": [
    "##  Introduction to Time Series\n",
    "\n",
    "Time series analysis comprises methods for analyzing time series data in order to extract meaningful statistics and other characteristics of the data. Time series forecasting is the use of a model to predict future values based on previously observed values."
   ]
  },
  {
   "cell_type": "markdown",
   "metadata": {},
   "source": [
    "A **Time Series** is a set of observations $x_t$, each one being recorded at a specific time $t$. We denote a time series of a variable $X$ as follows\n",
    "\\begin{equation}\n",
    "X= (X_1,X_2,\\dots,X_t,\\dots)=\\{X_t\\}_{t=1,2,\\dots}\n",
    "\\end{equation}\n",
    "Time Series can be deterministic or stochastic and discrete or continuously. We will consider the discrete stochastic time series.\n",
    "A general approach to time series modeling is as the following:\n",
    "\n",
    "- **Step1** Plot the series and examine the main features of the graph\n",
    "   * Trend Component\n",
    "   * Seasonal Component\n",
    "   * Anny apparent sharp changes in behavior\n",
    "   * Any outlying observations\n",
    "- **Step2** Remove the trend and seasonal compenents to get *stationary residuals*. To achieve this goal it may sometimes be necessary to apply a transformation to the data. (e.g. take the natural logarithm \"$ln$\").\n",
    "- **Step3** Choose a model to fit the residuals.\n",
    "- **Step4** Forecasting the residuals and inverting the transformations described above to arrive forecasts of the original series $\\{X_t\\}$"
   ]
  },
  {
   "cell_type": "markdown",
   "metadata": {},
   "source": [
    "The classical decomposition model has the following additive form \n",
    "\\begin{equation}\n",
    "X_t=m_t + s_t + Y_t\\qquad t=0,1,\\dots\n",
    "\\end{equation}\n",
    "or multiplicative form \n",
    "\\begin{equation}\n",
    "X_t=m_ts_tY_t \\qquad t=0,1,\\dots\n",
    "\\end{equation}\n",
    "or mixed form,\n",
    "\\begin{equation}\n",
    "X_t=m_ts_t + Y_t \\qquad t=0,1,\\dots\n",
    "\\end{equation}\n",
    "where \n",
    "\\begin{align}\n",
    "m_t &: \\quad \\mbox{is a usually slowly changing function of time as a trend compenent,} \\\\ \n",
    "s_t &:\\quad  \\mbox{is a periodical function of time as a seasonal compenent,} \\\\ \n",
    "Y_t &: \\quad \\mbox{is a random noise compenent.} \\\\ \n",
    "\\end{align}\n",
    "Our aim is to estimate and extract the deterministic compenents $m_t$ and $s_t$ in the hope that the residual or noise compenent $Y_t$ will turn out to be a *stationary time series*.\n",
    "\n",
    "Another approach (Box and Jenkins 1976) is to apply differencing operators repeatedly to the series $\\{X_t\\}$ until the differenced observations resemble a realization of some *stationary time series*."
   ]
  },
  {
   "cell_type": "markdown",
   "metadata": {},
   "source": [
    "## Nonseasonal Model with Trend\n",
    "There is no seasonality, the model simplify to\n",
    "\\begin{equation}\n",
    "X_t=m_t + Y_t \\qquad t=0,1,\\dots\n",
    "\\end{equation}\n",
    "where $E(X_t)=m_t$, that is we assume that $E(Y_t)=0$. \n",
    "\n",
    "* fit a trend\n",
    "* subtract the fitted trend from data\n",
    "* you get an approximate stationary time series model for the residuals.\n",
    "\n",
    "#### Least Square Estimation of Trend\n",
    "We assume that $m_t=m(t,\\mathbf{\\beta})$ is a function of time t, such as polynomial of degree $k$, depending on some unknown parameteres $\\beta=(\\beta_0,\\beta_1,\\dots,\\beta_k)^T$.\n",
    "\n",
    "We want to find $\\beta=(\\beta_0,\\beta_1,\\dots,\\beta_k)^T$ by minimizing the function\n",
    "\\begin{equation}\n",
    "l(\\beta)=\\sum_{t=1}^{n} (X_t - m(t,\\beta))^2\n",
    "\\end{equation}\n",
    "For example, consider a linear trend model $m(t,\\beta)=\\beta_0 + \\beta_1 t$, after minimizing the following function\n",
    "\\begin{equation}\n",
    "l(\\beta)=\\sum_{t=1}^{n} (X_t - \\beta_0 - \\beta_1)^2\n",
    "\\end{equation}\n",
    "we obtained the parameters as\n",
    "\\begin{align}\n",
    "\\hat{\\beta_0} & = \\overline{X_t}-\\hat{\\beta_1}\\overline{t} \\\\\n",
    "\\hat{\\beta_1} & = \\frac{\\overline{X_t t}-\\overline{X_t}\\overline{t}}{\\overline{t^2}-(\\overline{t})^2}\n",
    "\\end{align}\n",
    "Then, the random noise is estimated as \n",
    "\\begin{equation}\n",
    "\\hat{y_t}=x_t - \\hat{m_t}\n",
    "\\end{equation}\n",
    "#### Smoothing by a moving average\n",
    "* *Two sided moving average*: For q nonnegative integer,\n",
    "\\begin{equation}\n",
    "\\hat{m_t}=W_t=\\frac{1}{2q+1} \\sum_{j=-q}^{q} X_{t-j} \\qquad q+1 \\leq t \\leq n-q\n",
    "\\end{equation}\n",
    "Then the estimator od the noise is\n",
    "\\begin{equation}\n",
    "\\hat{Y_t}=X_t-W_t\n",
    "\\end{equation}\n",
    "* *Exponential Smoothing*: For any fixes $\\alpha\\in[0,1]$, the one-side moving averages \n",
    "\\begin{equation}\n",
    "\\hat{m_t}=\\alpha X_t +(1-\\alpha)\\hat{m_{t_1}} \\qquad \\mbox{for}\\; t=2,3,\\dots\\quad \\mbox{with} \\;\\hat{m_1}=X_1\n",
    "\\end{equation}\n",
    "or recursively\n",
    "\\begin{equation}\n",
    "\\hat{m_t}=\\sum_{j=0}^{t-2} \\alpha(1-\\alpha)^j X_{t-j} + (1-\\alpha)^{t-1}X_1\n",
    "\\end{equation}\n",
    "is a weighted moving average of $X_t,X_{t-1},\\dots$ with weights descending exponentially.\n",
    "\n",
    "\n",
    "The process $W_t$ is a linear function (**linear filter**) of random variables $X_t$. In general, it may be written as\n",
    "\\begin{equation}\n",
    "W_t=\\sum_{j=-\\infty}^{\\infty} a_jX_{t+j}\n",
    "\\end{equation}\n",
    "where\n",
    "\\begin{equation}\n",
    "a_j= \\left\\{\n",
    "\\begin{array}{ll}\n",
    "\\frac{1}{2q+1} & \\quad \\mbox{for} \\quad -q\\leq j\\leq q,\\\\\n",
    "0 & \\quad \\mbox{for} \\quad |j|>q.\n",
    "\\end{array}\\right.\n",
    "\\end{equation}\n",
    "\n",
    "\n",
    "The set of $\\{a_j\\}$ is called a linear filter. The following filters are often applied:\n",
    "* $\\{a_j\\}$ being successive terms in the expansion $(\\frac{1}{2}+\\frac{1}{2})^{2q}$. For $q=1$, we get\n",
    "\\begin{equation}\n",
    "\\{a_j\\}=(\\frac{1}{4},\\frac{1}{2},\\frac{1}{4}) \\mbox{for} \\quad j=-1,0,1.\n",
    "\\end{equation}\n",
    "\n",
    "For large $q$ the weights approximate to a normla curve.\n",
    "* Spencer's 15-point moving average. Here $q=7$ and the weights are \n",
    "\\begin{equation}\n",
    "\\{a_j\\}= \\frac{1}{320}(-3, -6, -5, 3, 21, 46, 67, 74, 67, 46, ... ,-3)\n",
    "\\end{equation}\n",
    "\n",
    "* Henderson's moving average for q=4\n",
    "\\begin{equation}\n",
    "\\{a_j\\}= (-.041, -.010, -.119, .267, .330, .267, -.119, -.010, -.041)\n",
    "\\end{equation}\n",
    "\n",
    "Sometimes we need to apply filters more than one to get a stationary time series."
   ]
  },
  {
   "cell_type": "markdown",
   "metadata": {},
   "source": [
    "## Differencing Method\n",
    "\n",
    "For **the trend compenent**, we define the *lag*-1 difference operator $\\nabla$ by \n",
    "\\begin{equation}\n",
    "\\nabla X_t=X_t - X_{t-1}=(1-B)X_t\n",
    "\\end{equation}\n",
    "where $B$ is the backward shift operator $BX_t=X_{t-1}$ with \n",
    "\\begin{equation}\n",
    "\\nabla^kX_t=\\nabla(\\nabla^{k-1}X_{t}) \\qquad \\nabla^0X_t=X_t\n",
    "\\end{equation}\n",
    "For example, \n",
    "\\begin{align}\n",
    "\\nabla^2X_t & = \\nabla(\\nabla X_t)=(1-B)(1-B)X_t = (1-2B-B^2)X_t\\\\\n",
    "& = X_t-2X_{t-1}+ X_{t-2}\n",
    "\\end{align}\n",
    "\n",
    "\n",
    "For **the seasonal compenent**, we define the *lag*-d differencing operator by\n",
    "\\begin{equation}\n",
    "\\nabla_d X_t = X_t - X_{t-d} = (1-B^d)X_t\n",
    "\\end{eqaution}\n",
    "Applying the *lag*-d operator to the classical decomposition model, we obtain\n",
    "\n",
    "\\begin{align}\n",
    "\\nabla_d X_t & = (m_t + s_t + Y_t)- ( m_{t-d} + s_{t-d} + Y_{t-d} )\n",
    " & = m_t - m_{t-d} + Y_t - Y_{t-d}.\n",
    "\\end{align}\n",
    "\n",
    "This removes the seasonal effect. Then to remove trend we may apply the one of the methods described above. For example, *lag*-1 difference operator $\\nabla$.\n"
   ]
  },
  {
   "cell_type": "markdown",
   "metadata": {},
   "source": [
    "## Method presented by Brockwell and Davis (2016) \n",
    "To obtain a stationary time series, \n",
    "- Take natural logarithm of time series\n",
    "- Apply the operator $\\nabla^2$ to the series.(usually 2 step)\n",
    "\n",
    "Classical Decomposition  Model\n",
    "\n",
    "\\begin{equation}\n",
    "X_t = m_t + s_t + Y_t  \\qquad \\mbox{for}\\; t=1,2,\\dots,n\n",
    "\\end{equation}\n",
    "where $E(Y_t)=0$ $s_{t+d}=s_t$ and $\\sum_{j=1}^{d} s_j =0$\n",
    "\n",
    "To estimate trend compenent, d is period\n",
    "\n",
    "If d is even, $d=2q$\n",
    "\\begin{equation}\n",
    "\\hat{m_t}=\\frac{1}{d}(\\frac{1}{2}X_{t-q}+ X_{t-q+1} + \\cdots + X_{t-q-1} + \\frac{1}{2}X_{t+q}) \\quad q<t<n-q\n",
    "\\end{equation}\n",
    "If d is odd, $d=2q+1$,\n",
    "\\begin{equation}\n",
    "\\hat{m_t}=\\frac{1}{2q+1}\\sum_{j=-q}^{q}X_{t-j} \\qquad q+1\\leq t \\leq n-q \n",
    "\\end{equation}\n",
    "\n",
    "To estimate the seasonal, for each $k=1,\\dots,d$ the average deviations $w_k$,\n",
    "\\begin{equation}\n",
    "w_k = x_{k+jd}-\\hat{m_{k+jd}} \\qquad q< k+jd \\leq n-q\n",
    "\\end{equation}\n",
    "\n",
    "\n",
    "\\begin{equation}\n",
    "\\hat{s_k}=w_k -\\frac{1}{d}\\sum_{i=1}^{d} w_i \\qquad k=1,\\dots, d. \\qquad\\qquad \\mbox{and} \\quad \\hat{s_k}=\\hat{s_{k-d}} \\quad k>d\n",
    "\\end{equation}\n",
    "After we get the deseasonalized variables, again we estimate the trend compenent $\\hat{m_t}$\n",
    "Finally, we can find the noise compenent $Y_t= x_t-\\hat{m_t}-\\hat{s_t}$"
   ]
  },
  {
   "cell_type": "markdown",
   "metadata": {},
   "source": [
    "## Stationary Time Series Models\n",
    "\n",
    "A time series is a sequence of random variables $\\{X_t\\}_{t=1,2,\\dots}$, hence it is natural to ask about distributions of these random variables. We consider first and second order moments of the joint distributions,i.e.\n",
    "\\begin{equation}\n",
    "E(X_t)\\quad \\mbox{and}\\quad E(X_{t+\\tau}X_t) \\quad \\mbox{for  } t=1,2,\\dots \\quad \\tau=0,1,2\\dots\n",
    "\\end{equation}\n",
    "and examine properties of the time series which depend on these.\n",
    "\n",
    "Now, we are going to introduce some definiton which we need\n",
    "\n",
    "\n",
    "Time series : ${X_t}$  for $t=0, \\pm 1, \\pm 2, \\dots$\n",
    "\n",
    "Time shifted series : $X_{t+\\tau}$ for $t=0, \\pm 1, \\pm 2, \\dots$ and $\\tau=0,1,2\\dots$.\n",
    "\n",
    "\n",
    "**The covariance of $X$ and $Y$**\n",
    "\\begin{equation}\n",
    "\\mbox{cov}(X,Y)=E[(X-\\mu_X)(Y-\\mu_Y)]=E[XY]-E[X]E[Y]\n",
    "\\end{equation}\n",
    "\n",
    "**The stationary time series**\n",
    "A time series $\\{X_t\\}$ is called *weakly stationary* or just *stationary* if\n",
    "- E$(X_t)=\\mu_{X_t}=\\mu<\\infty$\n",
    "- $\\gamma(X_{t+\\tau},X_t)=\\gamma_{\\tau}$\n",
    "\n",
    "**The autocovariance function (ACVF)**\n",
    "\\begin{equation}\n",
    "\\gamma(\\tau)=\\gamma_{X}({\\tau})=\\gamma(X_{t+\\tau},X_t)=\\mbox{cov}(X_{t+\\tau},X_t), \\quad \\mbox{for all indexes $t$ and lags $\\tau$}.\n",
    "\\end{equation}\n",
    "\n",
    "**The autocorrelation function (ACF)**\n",
    "\\begin{equation}\n",
    "\\rho_{X}(\\tau)=\\frac{\\gamma_X(\\tau)}{\\gamma_X(0)}=\\mbox{corr}(X_{t+\\tau},X_t) \\quad \\forall \\tau,t.\n",
    "\\end{equation}\n",
    "\n",
    "**iid noise**(independent identically distributed)\n",
    "\n",
    "\\begin{equation}\n",
    "\\{X_t\\} \\sim IID(0,\\sigma^2)\n",
    "\\end{equation}\n",
    "\n",
    "**White noise** ($\\{X_t\\}$  uncorrelated sequence)\n",
    "\n",
    "\\begin{equation}\n",
    "\\{X_t\\}\\sim WN(0, \\sigma^2)\n",
    "\\end{equation}\n",
    "\n",
    "**The sample autocovariance function**\n",
    "\n",
    "\\begin{equation}\n",
    "\\hat{\\gamma}(\\tau)=\\frac{1}{n}\\sum_{t=1}^{n-|\\tau|}(x_t-\\bar{x})(x_{t+|\\tau|}-\\bar{x}),\\quad -n< \\tau < n\n",
    "\\end{equation}\n",
    "\n",
    "where\n",
    "\n",
    "\\begin{equation}\n",
    "\\bar{x}=\\frac{1}{n} \\sum_{t=1}^{n} x_t\n",
    "\\end{equation}\n",
    "\n",
    "**The sample autocorrelation function**\n",
    "\n",
    "\\begin{equation}\n",
    "\\hat{\\rho}(\\tau)=\\frac{\\hat{\\gamma}(\\tau)}{\\hat{\\gamma}(0)}, \\quad -n < \\tau < n\n",
    "\\end{equation}\n",
    "\n",
    "\n",
    "**The Partial Autocorrelation Function (PACF)**\n",
    "\n",
    "The autocorrelation function of a zero-mean stationary time series $\\{X_t\\}_{t=0,1,\\dots}$ is defined as \n",
    "\n",
    "\\begin{align}\n",
    "\\phi_{11} & =\\mbox{corr}(X_1,X_0)=\\rho(1) \\\\\n",
    "\\phi_{\\tau\\tau} & =\\mbox{corr}(X_{\\tau} - f(X_{\\tau-1},\\cdots,X_1) , X_{0} - f(X_{\\tau-1},\\cdots,X_1))\n",
    "\\end{align}\n",
    "\n",
    "where minimizes the mean square linear prediction error\n",
    "\n",
    "\\begin{equation}\n",
    "E(X_{\\tau} - f(X_{\\tau-1},\\cdots,X_1))^2.\n",
    "\\end{equation}"
   ]
  },
  {
   "cell_type": "markdown",
   "metadata": {},
   "source": [
    "## Moving Average Processes MA(q)\n",
    "\n",
    "$\\{X_t\\}$ is a moving average process of order q if \n",
    "\\begin{equation}\n",
    "X_t=Z_t+\\theta_1 Z_{t-1}+\\cdots+\\theta_q Z_{t-q}\n",
    "\\end{equation}\n",
    "where\n",
    "\\begin{equation}\n",
    "Z_t\\sim WN(0,\\sigma^2)\n",
    "\\end{equation}\n",
    "and $\\theta_1,\\dots,\\theta_q$ are constants.\n",
    "\n",
    "Or we can rewrite the above definition as operotor\n",
    "\n",
    "\\begin{equation}\n",
    "X_t=\\theta(B)Z_t \\qquad \\mbox{where}\\quad \\theta(B)= 1+\\theta_1 B+ \\theta_2 B^2 + \\cdots + \\theta_q B^q\n",
    "\\end{equation}\n",
    "\n",
    "the shift operator $B^k Z_t = Z_{t-k}$.\n",
    " \n",
    "Generally, we choose the model with $|\\theta|<1$"
   ]
  },
  {
   "cell_type": "markdown",
   "metadata": {},
   "source": [
    "## Autoregressive Processes AR(p)\n",
    "\n",
    "An autoregressive process of order p is \n",
    "\n",
    "\\begin{equation}\n",
    "X_t = \\phi_1 X_{t-1} + \\phi_2 X_{t-2} + \\cdots + \\phi_p X_{t-p} + Z_t\n",
    "\\end{equation}\n",
    "\n",
    "where $\\{Z_t\\} \\sim WN(0,\\sigma^2)$ and $Z_t$ is uncorrelated with $X_s$ for each $ s<t $.\n",
    "\n",
    "\n",
    "If E$(X_t)=\\mu \\neq 0$, then we replace $X_t$ by $X_t - \\mu$ then we obtain\n",
    "\n",
    "\\begin{equation}\n",
    "X_t-\\mu = \\phi_1 (X_{t-1}-\\mu) + \\phi_2 (X_{t-2}-\\mu) + \\cdots + \\phi_p (X_{t-p}-\\mu) + Z_t\n",
    "\\end{equation}\n",
    "\n",
    "then we have \n",
    "\n",
    "\\begin{equation}\n",
    "X_t = \\alpha + \\phi_1 X_{t-1} + \\phi_2 X_{t-2} + \\cdots + \\phi_p X_{t-p} + Z_t\n",
    "\\end{equation}\n",
    "\n",
    "where  $\\alpha = \\mu(1-\\phi_1-\\cdots-\\phi_p)$.\n",
    "\n",
    "Writing the model in the other form\n",
    "\n",
    "\\begin{equation}\n",
    "X_t - \\phi_1 X_{t-1} - \\phi_2 X_{t-2} - \\cdots - \\phi_p X_{t-p} = Z_t\n",
    "\\end{equation}\n",
    "\n",
    "Apllying the shift operator $BX_t=X_{t-1}$\n",
    "\n",
    "\\begin{equation}\n",
    "\\underbrace{(1- \\phi_1 B + \\phi_2 B^2 - \\cdots - \\phi_p B^p)}_ {\\mbox{autoregressive operator } \\phi(B)} X_t = Z_t\n",
    "\\end{equation}"
   ]
  },
  {
   "cell_type": "markdown",
   "metadata": {},
   "source": [
    "## Autoregressive Moving Average Processes ARMA (p,q)\n",
    "\n",
    "$\\{X_t\\}$ is an **ARMA(p,q)** process if $\\{X_t\\}$ is stationary and if for every $t$,\n",
    "\n",
    "\\begin{equation}\n",
    "X_t - \\phi_1 X_{t-1} - \\phi_2 X_{t-2} - \\cdots - \\phi_p X_{t-p} = Z_t+\\theta_1 Z_{t-1}+\\cdots+\\theta_q Z_{t-q}\n",
    "\\end{equation}\n",
    "\n",
    "where $\\{Z_t\\} \\sim WN(0,\\sigma^2)$ and the polynomials\n",
    "\n",
    "\\begin{align}\n",
    "\\phi(z) & = 1 - \\phi_1 z - \\cdots - \\phi_p z^p \\\\\n",
    "\\mbox{and}& \\\\\n",
    "\\theta(z) & = 1 + \\theta_1 z + \\cdots + \\theta_p z^p \n",
    "\\end{align}\n",
    "\n",
    "have no common factors."
   ]
  },
  {
   "cell_type": "markdown",
   "metadata": {},
   "source": [
    "## Autoregressive Integrated Moving Average Process ARIMA(p,d,q)\n",
    "\n",
    "A process $\\{X_t\\}$ is said to follow an Integrated ARMA model, denoted by **ARIMA(p,d,q)**, if\n",
    "\n",
    "\\begin{equation}\n",
    "\\nabla ^d X_t = (1-B)^d X_t\n",
    "\\end{equation}\n",
    "\n",
    "is ARMA(p,q). We write model with integration parameter $d$ is a nonnegative integer as\n",
    "\n",
    "\\begin{equation}\n",
    "\\phi(B)(1-B)^d X_t = \\theta(B)Z_t, \\qquad Z_t \\sim WN(0,\\sigma^2).\n",
    "\\end{equation}\n",
    "\n",
    "### Building ARIMA models\n",
    "- *Plotting the data*\n",
    "    * Plotting $x_t$ vs time $t$ and inspecting the graph may reveal some unusual features, outstanding\n",
    "      observations, may indicate if the series is stationary and/or seasonal and if the variance is stable.\n",
    "  \n",
    "  \n",
    "- *Transforming the data*\n",
    "    * If the necessary to transform the data, we may use Box-Cox power transformation\n",
    "    \\begin{equation}\n",
    "    y_t =\\left\\{\n",
    "    \\begin{array}{ll}\n",
    "    \\frac{x_t ^{\\lambda}-1}{\\lambda},\\qquad & \\mbox{if}\\quad \\lambda\\neq 0, \\\\\n",
    "    \\ln x_t,\\qquad & \\mbox{if} \\quad \\lambda =0.\n",
    "    \\end{array}\\right.\n",
    "    \\end{equation}\n",
    "\n",
    "\n",
    "- *Identifying the Orders (p,d,q) of the model*\n",
    "    * Inspection of the time series plot may help to identify the differencing order $d$, while inspection of the\n",
    "      ACF and PACF of the differenced data $\\nabla^d x_t$ may help to identify the AR order $p$ and MA order $q$.\n",
    "\n",
    "\n",
    "- *Estimation of the model parameters $\\phi$ and $\\theta$*\n",
    "    * We can do this by using the Yule-Walker equations, the Maximum Likelihood method or the Least Squared\n",
    "      method.\n",
    "\n",
    "\n",
    "- *Residuals Diagnostics* \n",
    "    * If diagnostics, such as graphs of the residuals' ACF, PACF, Q-Q plot, histogram do not indicate a Gausian         White Noise, we should repeat the model estimation for another set of orders $(p,d,q)$.\n",
    "    \n",
    "## Seasonal ARIMA = SARIMA\n",
    "\n",
    "Seasonal nonstationarity can occur when the process is nearly periodic in the season and the seasonal compenent varies slowly from period to period. We can substract the effect of the season using the backshift operator $B^h$ to obtain seasonal stationarity\n",
    "\n",
    "\\begin{equation}\n",
    "X_t - X_{t-h} = (1-B^h)X_t\n",
    "\\end{equation}\n",
    "\n",
    "\n",
    "Here seasonal difference $P=0$,$D=1$ and $Q=0$, with $ SARIMA = ARIMA(p,d,q)x(P,D,Q)_h$ In generally, taking $D=1$ is sufficient to obtain seasonal stationarity."
   ]
  },
  {
   "cell_type": "markdown",
   "metadata": {},
   "source": [
    "## Log Returns Analysis\n",
    "Instead of closing price series, log returns will be used for further statistical tests and calculations.\n",
    "\n",
    "Advantage of returns compared to closing prices is normalization and it enables evaluation of analytic relationships among variables despite originating from price series of varied values by measuring all variables in a comparable metric.\n",
    "\n",
    "$$ R_t = \\frac{P_t - P_{t-1}}{P_{t-1}} $$\n",
    "\n",
    "The Taylor expansion for $ \\log{(1+x)} $ is $ x-\\frac{x^2}{2}+\\frac{x^3}{3} + O(x^4) $ \n",
    "\n",
    "When x is a small number, $ \\log{(1+x)} \\approx x $ \n",
    "\n",
    "Substituting $ R_t $ gives us $ \\log{(1+R_t)} \\approx R_t $\n",
    "\n",
    "\\begin{align}\n",
    "\\log{(1 + R_t)}= & \\log{1+\\frac{P_t}{P_{t-1}-1}} \\approx R_t \\\\\n",
    "= & \\log{\\frac{P_t}{P_{t-1}}} = =\\log{P_t} - \\log{P_{t-1}} \\approx R_t\n",
    "\\end{align}\n",
    "\n",
    "<table>\n",
    "    <tr>\n",
    "        <td> $R_t$ = Returns at t</td>\n",
    "        <td> $P_t$ = Closing price at t</td>\n",
    "    </tr>\n",
    "</table>"
   ]
  },
  {
   "cell_type": "markdown",
   "metadata": {},
   "source": [
    "## Application on USD-TRY Currency\n",
    "### Description of Data\n",
    "\n",
    "The data used in this analysis is daily closing prices of the USD-TRY currency from Borsa Istanbul between october 1997 and december 2018. \n",
    "\n",
    "Dataset is stored in a excel (xlsx) file. The package __readx1__ is used for reading dataset from excel file. The package __repr__ is used for resizing plots for better visualization."
   ]
  },
  {
   "cell_type": "code",
   "execution_count": 44,
   "metadata": {},
   "outputs": [
    {
     "data": {
      "text/html": [
       "<table>\n",
       "<thead><tr><th scope=col>Dates</th><th scope=col>Lastprice</th></tr></thead>\n",
       "<tbody>\n",
       "\t<tr><td>1997-10-20</td><td>0.1808    </td></tr>\n",
       "\t<tr><td>1997-10-21</td><td>0.1813    </td></tr>\n",
       "\t<tr><td>1997-10-22</td><td>0.1820    </td></tr>\n",
       "\t<tr><td>1997-10-23</td><td>0.1818    </td></tr>\n",
       "\t<tr><td>1997-10-24</td><td>0.1826    </td></tr>\n",
       "\t<tr><td>1997-10-27</td><td>0.1828    </td></tr>\n",
       "</tbody>\n",
       "</table>\n"
      ],
      "text/latex": [
       "\\begin{tabular}{r|ll}\n",
       " Dates & Lastprice\\\\\n",
       "\\hline\n",
       "\t 1997-10-20 & 0.1808    \\\\\n",
       "\t 1997-10-21 & 0.1813    \\\\\n",
       "\t 1997-10-22 & 0.1820    \\\\\n",
       "\t 1997-10-23 & 0.1818    \\\\\n",
       "\t 1997-10-24 & 0.1826    \\\\\n",
       "\t 1997-10-27 & 0.1828    \\\\\n",
       "\\end{tabular}\n"
      ],
      "text/markdown": [
       "\n",
       "Dates | Lastprice | \n",
       "|---|---|---|---|---|---|\n",
       "| 1997-10-20 | 0.1808     | \n",
       "| 1997-10-21 | 0.1813     | \n",
       "| 1997-10-22 | 0.1820     | \n",
       "| 1997-10-23 | 0.1818     | \n",
       "| 1997-10-24 | 0.1826     | \n",
       "| 1997-10-27 | 0.1828     | \n",
       "\n",
       "\n"
      ],
      "text/plain": [
       "  Dates      Lastprice\n",
       "1 1997-10-20 0.1808   \n",
       "2 1997-10-21 0.1813   \n",
       "3 1997-10-22 0.1820   \n",
       "4 1997-10-23 0.1818   \n",
       "5 1997-10-24 0.1826   \n",
       "6 1997-10-27 0.1828   "
      ]
     },
     "metadata": {},
     "output_type": "display_data"
    },
    {
     "data": {
      "text/html": [
       "<table>\n",
       "<thead><tr><th scope=col>Dates</th><th scope=col>Lastprice</th></tr></thead>\n",
       "<tbody>\n",
       "\t<tr><td>2018-11-13</td><td>5.4774    </td></tr>\n",
       "\t<tr><td>2018-11-14</td><td>5.4604    </td></tr>\n",
       "\t<tr><td>2018-11-15</td><td>5.3514    </td></tr>\n",
       "\t<tr><td>2018-11-16</td><td>5.3330    </td></tr>\n",
       "\t<tr><td>2018-11-19</td><td>5.3125    </td></tr>\n",
       "\t<tr><td>2018-11-20</td><td>5.3871    </td></tr>\n",
       "</tbody>\n",
       "</table>\n"
      ],
      "text/latex": [
       "\\begin{tabular}{r|ll}\n",
       " Dates & Lastprice\\\\\n",
       "\\hline\n",
       "\t 2018-11-13 & 5.4774    \\\\\n",
       "\t 2018-11-14 & 5.4604    \\\\\n",
       "\t 2018-11-15 & 5.3514    \\\\\n",
       "\t 2018-11-16 & 5.3330    \\\\\n",
       "\t 2018-11-19 & 5.3125    \\\\\n",
       "\t 2018-11-20 & 5.3871    \\\\\n",
       "\\end{tabular}\n"
      ],
      "text/markdown": [
       "\n",
       "Dates | Lastprice | \n",
       "|---|---|---|---|---|---|\n",
       "| 2018-11-13 | 5.4774     | \n",
       "| 2018-11-14 | 5.4604     | \n",
       "| 2018-11-15 | 5.3514     | \n",
       "| 2018-11-16 | 5.3330     | \n",
       "| 2018-11-19 | 5.3125     | \n",
       "| 2018-11-20 | 5.3871     | \n",
       "\n",
       "\n"
      ],
      "text/plain": [
       "  Dates      Lastprice\n",
       "1 2018-11-13 5.4774   \n",
       "2 2018-11-14 5.4604   \n",
       "3 2018-11-15 5.3514   \n",
       "4 2018-11-16 5.3330   \n",
       "5 2018-11-19 5.3125   \n",
       "6 2018-11-20 5.3871   "
      ]
     },
     "metadata": {},
     "output_type": "display_data"
    },
    {
     "data": {
      "text/plain": [
       "     Dates                       Lastprice     \n",
       " Min.   :1997-10-20 00:00:00   Min.   :0.1808  \n",
       " 1st Qu.:2003-02-07 00:00:00   1st Qu.:1.3212  \n",
       " Median :2008-05-14 00:00:00   Median :1.5123  \n",
       " Mean   :2008-05-12 22:52:28   Mean   :1.7428  \n",
       " 3rd Qu.:2013-08-15 00:00:00   3rd Qu.:1.9491  \n",
       " Max.   :2018-11-20 00:00:00   Max.   :6.8838  "
      ]
     },
     "metadata": {},
     "output_type": "display_data"
    }
   ],
   "source": [
    "library(readxl)\n",
    "library(repr)\n",
    "options(repr.plot.width = 14, repr.plot.height = 10)\n",
    "dataset <- read_excel(\"USDTRY_Historical_Data.xlsx\", skip = 3,\n",
    "                   col_types = c(\"date\",\"numeric\"), col_names = c(\"Dates\",\"Lastprice\"))\n",
    "head(dataset)\n",
    "tail(dataset)\n",
    "summary(dataset)"
   ]
  },
  {
   "cell_type": "markdown",
   "metadata": {},
   "source": [
    "Instead of using the daily closing prices, we will investigate the closing price of the first and last day of monthly by using __log return__ analysis. "
   ]
  },
  {
   "cell_type": "code",
   "execution_count": 32,
   "metadata": {},
   "outputs": [],
   "source": [
    "monthlydata <- split(dataset$Lastprice, format(dataset$Dates, \"%Y-%m\"))\n",
    "logreturnset <- sapply(monthlydata, function(x){log(x[length(x)]/x[1])})"
   ]
  },
  {
   "cell_type": "markdown",
   "metadata": {},
   "source": [
    "Now we are going to save our dataset *logreturnset* as Time Series (ts)"
   ]
  },
  {
   "cell_type": "code",
   "execution_count": 33,
   "metadata": {},
   "outputs": [
    {
     "data": {
      "text/html": [
       "<ol class=list-inline>\n",
       "\t<li>1997</li>\n",
       "\t<li>10</li>\n",
       "</ol>\n"
      ],
      "text/latex": [
       "\\begin{enumerate*}\n",
       "\\item 1997\n",
       "\\item 10\n",
       "\\end{enumerate*}\n"
      ],
      "text/markdown": [
       "1. 1997\n",
       "2. 10\n",
       "\n",
       "\n"
      ],
      "text/plain": [
       "[1] 1997   10"
      ]
     },
     "metadata": {},
     "output_type": "display_data"
    },
    {
     "data": {
      "text/html": [
       "<ol class=list-inline>\n",
       "\t<li>2018</li>\n",
       "\t<li>11</li>\n",
       "</ol>\n"
      ],
      "text/latex": [
       "\\begin{enumerate*}\n",
       "\\item 2018\n",
       "\\item 11\n",
       "\\end{enumerate*}\n"
      ],
      "text/markdown": [
       "1. 2018\n",
       "2. 11\n",
       "\n",
       "\n"
      ],
      "text/plain": [
       "[1] 2018   11"
      ]
     },
     "metadata": {},
     "output_type": "display_data"
    }
   ],
   "source": [
    "newdataset <- ts(logreturnset, frequency = 12, start = c(1997,10), names = names(logreturn))\n",
    "start(newdataset)\n",
    "end(newdataset)"
   ]
  },
  {
   "cell_type": "markdown",
   "metadata": {},
   "source": [
    "Plot the dataset as trend, seasonal and remainder component. Computes the Augmented Dickey-Fuller test for the null that x has a unit root."
   ]
  },
  {
   "cell_type": "code",
   "execution_count": 34,
   "metadata": {},
   "outputs": [
    {
     "name": "stderr",
     "output_type": "stream",
     "text": [
      "Warning message in adf.test(diff(newdataset), alternative = c(\"stationary\", \"explosive\"), :\n",
      "\"p-value smaller than printed p-value\""
     ]
    },
    {
     "data": {
      "text/plain": [
       "\n",
       "\tAugmented Dickey-Fuller Test\n",
       "\n",
       "data:  diff(newdataset)\n",
       "Dickey-Fuller = -24.207, Lag order = 0, p-value = 0.01\n",
       "alternative hypothesis: stationary\n"
      ]
     },
     "metadata": {},
     "output_type": "display_data"
    }
   ],
   "source": [
    "#install.packages(\"tseries\", repos = \"http://cran.us.r-project.org\")\n",
    "library(tseries)\n",
    "adf.test(diff( newdataset ), alternative = c(\"stationary\", \"explosive\"), k=0 ) "
   ]
  },
  {
   "cell_type": "code",
   "execution_count": 35,
   "metadata": {},
   "outputs": [
    {
     "data": {
      "image/png": "[encoded data removed]",
      "text/plain": [
       "plot without title"
      ]
     },
     "metadata": {},
     "output_type": "display_data"
    }
   ],
   "source": [
    "plot(stl( newdataset , s.window = \"periodic\"))"
   ]
  },
  {
   "cell_type": "markdown",
   "metadata": {},
   "source": [
    "ACF gives to us the values of order q for MA(q). The first line which is include the region determined by blue dashline gives la-q\n",
    "\n",
    "PACF determinesthe value of order p for AR(p)"
   ]
  },
  {
   "cell_type": "code",
   "execution_count": 45,
   "metadata": {},
   "outputs": [
    {
     "data": {
      "image/png": "[encoded data removed]",
      "text/plain": [
       "Plot with title \"Series  diff(newdataset)\""
      ]
     },
     "metadata": {},
     "output_type": "display_data"
    },
    {
     "data": {
      "image/png": "[encoded data removed]",
      "text/plain": [
       "Plot with title \"Series  diff(newdataset)\""
      ]
     },
     "metadata": {},
     "output_type": "display_data"
    }
   ],
   "source": [
    "acf(diff( newdataset )) \n",
    "pacf(diff( newdataset ))"
   ]
  },
  {
   "cell_type": "code",
   "execution_count": 55,
   "metadata": {},
   "outputs": [
    {
     "data": {
      "text/plain": [
       "\n",
       "Call:\n",
       "arima(x = newdataset, order = c(1, 1, 2))\n",
       "\n",
       "Coefficients:\n",
       "          ar1      ma1      ma2\n",
       "      -0.4275  -0.4068  -0.5331\n",
       "s.e.   0.2684   0.2468   0.2342\n",
       "\n",
       "sigma^2 estimated as 0.002174:  log likelihood = 415.36,  aic = -822.72"
      ]
     },
     "metadata": {},
     "output_type": "display_data"
    },
    {
     "data": {
      "text/plain": [
       "          Jan      Feb      Mar      Apr      May      Jun      Jul      Aug\n",
       "2018                                                                        \n",
       "2019 1.018777 1.013781 1.015914 1.015002 1.015392 1.015225 1.015296 1.015266\n",
       "          Sep      Oct      Nov      Dec\n",
       "2018                            1.007129\n",
       "2019 1.015279 1.015273 1.015276         "
      ]
     },
     "metadata": {},
     "output_type": "display_data"
    }
   ],
   "source": [
    "fit <-arima( newdataset , c(1, 1, 2))\n",
    "fit\n",
    "pred <- predict(fit, n.ahead = 1*12 ) # This will predicting values for the next  year(12 mounth)\n",
    "pred1 <- exp(pred$pred) # The result should be convert into   log(x)=y, x = exp(y)\n",
    "pred1"
   ]
  },
  {
   "cell_type": "code",
   "execution_count": 51,
   "metadata": {},
   "outputs": [
    {
     "name": "stderr",
     "output_type": "stream",
     "text": [
      "also installing the dependencies 'fracdiff', 'lmtest', 'urca', 'uroot', 'RcppArmadillo'\n",
      "\n"
     ]
    },
    {
     "name": "stdout",
     "output_type": "stream",
     "text": [
      "package 'fracdiff' successfully unpacked and MD5 sums checked\n",
      "package 'lmtest' successfully unpacked and MD5 sums checked\n",
      "package 'urca' successfully unpacked and MD5 sums checked\n",
      "package 'uroot' successfully unpacked and MD5 sums checked\n",
      "package 'RcppArmadillo' successfully unpacked and MD5 sums checked\n",
      "package 'forecast' successfully unpacked and MD5 sums checked\n",
      "\n",
      "The downloaded binary packages are in\n",
      "\tC:\\Users\\Ismail\\AppData\\Local\\Temp\\RtmpG0kefu\\downloaded_packages\n"
     ]
    }
   ],
   "source": [
    "#install.packages(\"forecast\", repos = \"http://cran.us.r-project.org\")"
   ]
  },
  {
   "cell_type": "code",
   "execution_count": 56,
   "metadata": {},
   "outputs": [
    {
     "data": {
      "text/plain": [
       "Series: newdataset \n",
       "ARIMA(1,1,2) \n",
       "\n",
       "Coefficients:\n",
       "          ar1      ma1      ma2\n",
       "      -0.4275  -0.4068  -0.5331\n",
       "s.e.   0.2684   0.2468   0.2342\n",
       "\n",
       "sigma^2 estimated as 0.0022:  log likelihood=415.36\n",
       "AIC=-822.72   AICc=-822.56   BIC=-808.59"
      ]
     },
     "metadata": {},
     "output_type": "display_data"
    }
   ],
   "source": [
    "library(forecast)\n",
    "model <- auto.arima( newdataset )\n",
    "model"
   ]
  },
  {
   "cell_type": "markdown",
   "metadata": {},
   "source": [
    "## References\n",
    " * Brockwell, P. R. Davis (2016). _An introduction to Time Series and Forecasting. 3th Edition. Springer_\n",
    " * The course MTH6139 Time Series Lecturer notes in Queen Mary University of London."
   ]
  }
 ],
 "metadata": {
  "kernelspec": {
   "display_name": "R",
   "language": "R",
   "name": "ir"
  },
  "language_info": {
   "codemirror_mode": "r",
   "file_extension": ".r",
   "mimetype": "text/x-r-source",
   "name": "R",
   "pygments_lexer": "r",
   "version": "3.5.1"
  }
 },
 "nbformat": 4,
 "nbformat_minor": 2
}
