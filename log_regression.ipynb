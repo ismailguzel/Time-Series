{
 "cells": [
  {
   "cell_type": "markdown",
   "metadata": {},
   "source": [
    "# Logistic Regression"
   ]
  },
  {
   "cell_type": "markdown",
   "metadata": {},
   "source": [
    "All variable in linear regression should be quantitative. Linear regression is not suitable for classification problem due to be qualitative variables. In many situations, the response variable is qualitative such as yes / no, true / false, mild / moderate / severe etc. Often qualitative variables are referred to as *categorical*. Logistic regression is classification techniques or classifiers which can use to predict a qualitative response. Logistic regression gives you a discrete outcome(cancer or not) but linear regression gives a continuous outcome(the value of car).\n",
    "\n",
    "## Types of Logistic Regression\n",
    "\n",
    "* *Binary Logistic Regression*\n",
    "\n",
    "The categorical response has only two possible outcomes. For example, Fair-Unfair, Agree-Disagree\n",
    "* *Multinomial Logistic Regression*\n",
    "\n",
    "Three or more categories without ordering. For example, Veg, Non-veg, Vegan...\n",
    "* *Ordinal Logistic Regression*\n",
    "\n",
    "Three or more categories with ordering. For example, Movie rating from 1 to 5, Very happy-Quite happy-Neither happy nor unhappy-Unhappy-Very unhappy...\n",
    "\n",
    "## Applications of Logistic Regression\n",
    "- Whether a patient has cancer or not\n",
    "- To predict whether an email is spam or not\n",
    "- To predict whether the tumor is malignantor not\n",
    "- Image Segmentation and Categorization\n",
    "- Handwriting recognition\n",
    "\n",
    "\n",
    "## Function of Logistic Regression \n",
    "\n",
    "\n",
    "Logistic regression measures the relationship between the dependent variable and the one or more independent variables, by estimating probabilities using it's underlying logistic function (sigmoid function)\n",
    "\n",
    " $$ f(t):=\\frac{1}{1+e^{-t}} \\quad \\text{or} \\quad \\frac{e^{t}}{1+e^{t}} $$\n",
    " \n",
    " where $t\\in \\mathbb{R}$ and $f(t)\\in (0,1)$.\n",
    " \n",
    "The sigmoid function is an S-shaped curve that can take any real-valued number and map it into a value between the range of 0 and 1, but never exactly at those boundary values.\n",
    " $$ \\lim_{t\\to\\infty} f(t)=1 \\qquad \\text{and} \\qquad \\lim_{t\\to -\\infty}=0$$\n",
    " \n",
    " <img src=\"files/logisticgraph.png\" width='400' height='300'/>"
   ]
  },
  {
   "cell_type": "markdown",
   "metadata": {},
   "source": [
    "We get the logistic function with respect to the variable $x$ after substituting $t=w\\bullet x + b$ on sigmoid function, \n",
    "$$ p(x)=\\frac{1}{1+e^{-(w\\bullet x +b)}} $$\n",
    "\n",
    "$$Pr(y=1|\\; x)=p(x)=\\frac{1}{1+e^{-(w\\bullet x +b)}}$$\n",
    "$$Pr(y=0|\\;x)=1-Pr(y=1|\\;x)=1-p(x)=\\frac{e^{-(w\\bullet x +b)}}{1+e^{-(w\\bullet x +b)}}$$\n",
    "\n",
    "After taking proportion of the above equation, we get \n",
    "$$\\frac{p}{1-p}=\\frac{Pr(y=1|\\;x)}{1-Pr(y=1|\\;x)}=e^{(w\\bullet x +b)}$$\n",
    "Now, take the natural logarithm of the last equation both of sides,\n",
    "$$ ln(\\frac{p}{1-p})=w\\bullet x +b $$\n",
    "\n",
    "$\\frac{p}{1-p}$ is called *odds*, it means that the rate of the probability of event occurrence to the probability of event does not occurrence. The natural logarithm of odds is called *logit*,\n",
    "$$logit(x)=w\\bullet x+b$$\n",
    "\n",
    "\n",
    "Maximum Likelihood Estimation (MLE) is a general approach to estimating parameters in statistical models.From MLE,\n",
    "$$l(\\theta)=\\prod_{i=1}^{k}p(x_i;\\theta)^{y_i}(1-p(x_i;\\theta))^{1-y_i}$$\n",
    "\n",
    "After taking the the natural logarithm\n",
    "$$L(\\theta)=ln(l(\\theta))=\\sum_{i=1}^{k} \\{ y_i ln\\;(p(x_i;\\theta)) + (1-y_i)ln\\;(1-p(x_i;\\theta))\\}$$\n",
    "\n",
    "We want to find $ \\underset{\\theta}{argmax} \\;ln(l(\\theta))$ or $\\underset{\\theta}{argmax}\\; L(\\theta)$\n",
    "\n",
    "We can maximize the likelihood using different methods like Newton's Method or Gradient Descent."
   ]
  },
  {
   "cell_type": "markdown",
   "metadata": {},
   "source": [
    "# Sorular\n",
    "\n",
    "1) logit fonksiyonu linear bir fonksiyon. logit fonksiyonu ile MLE arasında bağıntı kuramadım.\n",
    "\n",
    "2) Biz MLE ile olasılık fonksiyonu seçerken başarı ve başarısızlık olduğu için binomial olduğu için $p^y (1-p)^{1-y}$seçtik dimi? Eğer öyleyse 3 ve daha fazla categori varsa multinomial distribution'ın fonksiyonu mu kullancağım.\n",
    "\n",
    "3) $\\theta$ değerini bulduk, ama bize uygun  $ w $ ve $ b $ değerleri lazım ki ?\n",
    "\n",
    "4) MLE olasılık değerini en büyük yapan parametreyi araştırır. MLE ile o parametreyi bulduğumuz zaman, sınıflandırma işlemini nasıl yapıyoruz ?\n",
    "\n"
   ]
  },
  {
   "cell_type": "code",
   "execution_count": null,
   "metadata": {},
   "outputs": [],
   "source": []
  }
 ],
 "metadata": {
  "kernelspec": {
   "display_name": "Python 3",
   "language": "python",
   "name": "python3"
  },
  "language_info": {
   "codemirror_mode": {
    "name": "ipython",
    "version": 3
   },
   "file_extension": ".py",
   "mimetype": "text/x-python",
   "name": "python",
   "nbconvert_exporter": "python",
   "pygments_lexer": "ipython3",
   "version": "3.6.5"
  }
 },
 "nbformat": 4,
 "nbformat_minor": 2
}
