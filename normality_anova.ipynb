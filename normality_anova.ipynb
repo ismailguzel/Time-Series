{
 "cells": [
  {
   "cell_type": "code",
   "execution_count": 1,
   "metadata": {},
   "outputs": [
    {
     "name": "stderr",
     "output_type": "stream",
     "text": [
      "Loading required package: foreign\n",
      "Loading required package: MASS\n"
     ]
    }
   ],
   "source": [
    "require(foreign)\n",
    "require(MASS)"
   ]
  },
  {
   "cell_type": "code",
   "execution_count": 45,
   "metadata": {},
   "outputs": [
    {
     "data": {
      "text/html": [
       "<table>\n",
       "<thead><tr><th scope=col>sid</th><th scope=col>state</th><th scope=col>crime</th><th scope=col>murder</th><th scope=col>pctmetro</th><th scope=col>pctwhite</th><th scope=col>pcths</th><th scope=col>poverty</th><th scope=col>single</th></tr></thead>\n",
       "<tbody>\n",
       "\t<tr><td>1   </td><td>ak  </td><td> 761</td><td> 9.0</td><td>41.8</td><td>75.2</td><td>86.6</td><td> 9.1</td><td>14.3</td></tr>\n",
       "\t<tr><td>2   </td><td>al  </td><td> 780</td><td>11.6</td><td>67.4</td><td>73.5</td><td>66.9</td><td>17.4</td><td>11.5</td></tr>\n",
       "\t<tr><td>3   </td><td>ar  </td><td> 593</td><td>10.2</td><td>44.7</td><td>82.9</td><td>66.3</td><td>20.0</td><td>10.7</td></tr>\n",
       "\t<tr><td>4   </td><td>az  </td><td> 715</td><td> 8.6</td><td>84.7</td><td>88.6</td><td>78.7</td><td>15.4</td><td>12.1</td></tr>\n",
       "\t<tr><td>5   </td><td>ca  </td><td>1078</td><td>13.1</td><td>96.7</td><td>79.3</td><td>76.2</td><td>18.2</td><td>12.5</td></tr>\n",
       "\t<tr><td>6   </td><td>co  </td><td> 567</td><td> 5.8</td><td>81.8</td><td>92.5</td><td>84.4</td><td> 9.9</td><td>12.1</td></tr>\n",
       "</tbody>\n",
       "</table>\n"
      ],
      "text/latex": [
       "\\begin{tabular}{r|lllllllll}\n",
       " sid & state & crime & murder & pctmetro & pctwhite & pcths & poverty & single\\\\\n",
       "\\hline\n",
       "\t 1    & ak   &  761 &  9.0 & 41.8 & 75.2 & 86.6 &  9.1 & 14.3\\\\\n",
       "\t 2    & al   &  780 & 11.6 & 67.4 & 73.5 & 66.9 & 17.4 & 11.5\\\\\n",
       "\t 3    & ar   &  593 & 10.2 & 44.7 & 82.9 & 66.3 & 20.0 & 10.7\\\\\n",
       "\t 4    & az   &  715 &  8.6 & 84.7 & 88.6 & 78.7 & 15.4 & 12.1\\\\\n",
       "\t 5    & ca   & 1078 & 13.1 & 96.7 & 79.3 & 76.2 & 18.2 & 12.5\\\\\n",
       "\t 6    & co   &  567 &  5.8 & 81.8 & 92.5 & 84.4 &  9.9 & 12.1\\\\\n",
       "\\end{tabular}\n"
      ],
      "text/markdown": [
       "\n",
       "sid | state | crime | murder | pctmetro | pctwhite | pcths | poverty | single | \n",
       "|---|---|---|---|---|---|\n",
       "| 1    | ak   |  761 |  9.0 | 41.8 | 75.2 | 86.6 |  9.1 | 14.3 | \n",
       "| 2    | al   |  780 | 11.6 | 67.4 | 73.5 | 66.9 | 17.4 | 11.5 | \n",
       "| 3    | ar   |  593 | 10.2 | 44.7 | 82.9 | 66.3 | 20.0 | 10.7 | \n",
       "| 4    | az   |  715 |  8.6 | 84.7 | 88.6 | 78.7 | 15.4 | 12.1 | \n",
       "| 5    | ca   | 1078 | 13.1 | 96.7 | 79.3 | 76.2 | 18.2 | 12.5 | \n",
       "| 6    | co   |  567 |  5.8 | 81.8 | 92.5 | 84.4 |  9.9 | 12.1 | \n",
       "\n",
       "\n"
      ],
      "text/plain": [
       "  sid state crime murder pctmetro pctwhite pcths poverty single\n",
       "1 1   ak     761   9.0   41.8     75.2     86.6   9.1    14.3  \n",
       "2 2   al     780  11.6   67.4     73.5     66.9  17.4    11.5  \n",
       "3 3   ar     593  10.2   44.7     82.9     66.3  20.0    10.7  \n",
       "4 4   az     715   8.6   84.7     88.6     78.7  15.4    12.1  \n",
       "5 5   ca    1078  13.1   96.7     79.3     76.2  18.2    12.5  \n",
       "6 6   co     567   5.8   81.8     92.5     84.4   9.9    12.1  "
      ]
     },
     "metadata": {},
     "output_type": "display_data"
    }
   ],
   "source": [
    "cdata <- read.dta(\"https://stats.idre.ucla.edu/stat/data/crime.dta\")\n",
    "head(cdata)"
   ]
  },
  {
   "cell_type": "markdown",
   "metadata": {},
   "source": [
    "bartlett.test() # varyansların homojen olup olmadığını test eder. İstatiskite çoğu model, verilerin normal dağılıma ve eşit varyansa sahip olduğu varsayımı yapar. shapiro-wilk test normalliği test eder. Barlett's and Levene Testler normal dağılıma sahip verilerin eşit varyansa sahip olup olmadığını araştırır. p value değeri .05 den büyük ise eşit varyansa sahip demektir."
   ]
  },
  {
   "cell_type": "code",
   "execution_count": 36,
   "metadata": {},
   "outputs": [
    {
     "data": {
      "text/plain": [
       "\n",
       "\tShapiro-Wilk normality test\n",
       "\n",
       "data:  cdata$pctwhite\n",
       "W = 0.81739, p-value = 1.876e-06\n"
      ]
     },
     "metadata": {},
     "output_type": "display_data"
    },
    {
     "data": {
      "text/plain": [
       "\n",
       "\tShapiro-Wilk normality test\n",
       "\n",
       "data:  cdata$pctmetro\n",
       "W = 0.93944, p-value = 0.01167\n"
      ]
     },
     "metadata": {},
     "output_type": "display_data"
    }
   ],
   "source": [
    "shapiro.test(cdata$pctwhite)\n",
    "shapiro.test(cdata$pctmetro)"
   ]
  },
  {
   "cell_type": "code",
   "execution_count": 85,
   "metadata": {},
   "outputs": [
    {
     "data": {
      "text/plain": [
       "\n",
       "\tF test to compare two variances\n",
       "\n",
       "data:  cdata$single and cdata$poverty\n",
       "F = 0.11842, num df = 49, denom df = 49, p-value = 6.616e-12\n",
       "alternative hypothesis: true ratio of variances is not equal to 1\n",
       "95 percent confidence interval:\n",
       " 0.06719976 0.20867598\n",
       "sample estimates:\n",
       "ratio of variances \n",
       "         0.1184186 \n"
      ]
     },
     "metadata": {},
     "output_type": "display_data"
    },
    {
     "data": {
      "text/plain": [
       "\n",
       "\tBartlett test of homogeneity of variances\n",
       "\n",
       "data:  list(cdata$crime, cdata$poverty, cdata$single)\n",
       "Bartlett's K-squared = 766.08, df = 2, p-value < 2.2e-16\n"
      ]
     },
     "metadata": {},
     "output_type": "display_data"
    },
    {
     "data": {
      "text/plain": [
       "\n",
       "\tFligner-Killeen test of homogeneity of variances\n",
       "\n",
       "data:  list(cdata$crime, cdata$poverty, cdata$single)\n",
       "Fligner-Killeen:med chi-squared = 106.4, df = 2, p-value < 2.2e-16\n"
      ]
     },
     "metadata": {},
     "output_type": "display_data"
    }
   ],
   "source": [
    "# p-value > 0.05 olduğu zaman varyanslar arasında önemli bir fark yok.\n",
    "var.test(cdata$single , cdata$poverty)\n",
    "bartlett.test(list(cdata$crime , cdata$poverty , cdata$single))\n",
    "fligner.test(list(cdata$crime , cdata$poverty , cdata$single))"
   ]
  },
  {
   "cell_type": "code",
   "execution_count": 46,
   "metadata": {},
   "outputs": [],
   "source": [
    "ols <- lm(crime ~ murder + pctmetro + pctwhite + pcths + poverty + single, cdata )"
   ]
  },
  {
   "cell_type": "code",
   "execution_count": 47,
   "metadata": {},
   "outputs": [
    {
     "data": {
      "text/plain": [
       "\n",
       "Call:\n",
       "lm(formula = crime ~ murder + pctmetro + pctwhite + pcths + poverty + \n",
       "    single, data = cdata)\n",
       "\n",
       "Residuals:\n",
       "    Min      1Q  Median      3Q     Max \n",
       "-327.34 -114.33   -7.81   92.14  415.20 \n",
       "\n",
       "Coefficients:\n",
       "              Estimate Std. Error t value Pr(>|t|)    \n",
       "(Intercept) -1143.7912   584.9993  -1.955   0.0569 .  \n",
       "murder         19.3315     4.4442   4.350 7.97e-05 ***\n",
       "pctmetro        6.6218     1.1185   5.920 4.42e-07 ***\n",
       "pctwhite       -0.6983     2.5048  -0.279   0.7817    \n",
       "pcths           4.7913     6.6781   0.717   0.4769    \n",
       "poverty        15.0068     9.7222   1.544   0.1299    \n",
       "single         54.8519    21.3038   2.575   0.0135 *  \n",
       "---\n",
       "Signif. codes:  0 '***' 0.001 '**' 0.01 '*' 0.05 '.' 0.1 ' ' 1\n",
       "\n",
       "Residual standard error: 152.4 on 44 degrees of freedom\n",
       "Multiple R-squared:  0.895,\tAdjusted R-squared:  0.8807 \n",
       "F-statistic: 62.51 on 6 and 44 DF,  p-value: < 2.2e-16\n"
      ]
     },
     "metadata": {},
     "output_type": "display_data"
    }
   ],
   "source": [
    "summary(ols) "
   ]
  },
  {
   "cell_type": "code",
   "execution_count": 48,
   "metadata": {},
   "outputs": [
    {
     "data": {
      "text/html": [
       "<table>\n",
       "<thead><tr><th></th><th scope=col>Df</th><th scope=col>Sum Sq</th><th scope=col>Mean Sq</th><th scope=col>F value</th><th scope=col>Pr(&gt;F)</th></tr></thead>\n",
       "<tbody>\n",
       "\t<tr><th scope=row>murder</th><td> 1          </td><td>7640198.858 </td><td>7640198.858 </td><td>329.1254976 </td><td>4.774083e-22</td></tr>\n",
       "\t<tr><th scope=row>pctmetro</th><td> 1          </td><td> 752740.109 </td><td> 752740.109 </td><td> 32.4266380 </td><td>9.472784e-07</td></tr>\n",
       "\t<tr><th scope=row>pctwhite</th><td> 1          </td><td>   6424.408 </td><td>   6424.408 </td><td>  0.2767515 </td><td>6.014801e-01</td></tr>\n",
       "\t<tr><th scope=row>pcths</th><td> 1          </td><td>   5669.088 </td><td>   5669.088 </td><td>  0.2442137 </td><td>6.236374e-01</td></tr>\n",
       "\t<tr><th scope=row>poverty</th><td> 1          </td><td> 148151.746 </td><td> 148151.746 </td><td>  6.3821005 </td><td>1.520059e-02</td></tr>\n",
       "\t<tr><th scope=row>single</th><td> 1          </td><td> 153890.638 </td><td> 153890.638 </td><td>  6.6293213 </td><td>1.347185e-02</td></tr>\n",
       "\t<tr><th scope=row>Residuals</th><td>44          </td><td>1021399.898 </td><td>  23213.634 </td><td>         NA </td><td>          NA</td></tr>\n",
       "</tbody>\n",
       "</table>\n"
      ],
      "text/latex": [
       "\\begin{tabular}{r|lllll}\n",
       "  & Df & Sum Sq & Mean Sq & F value & Pr(>F)\\\\\n",
       "\\hline\n",
       "\tmurder &  1           & 7640198.858  & 7640198.858  & 329.1254976  & 4.774083e-22\\\\\n",
       "\tpctmetro &  1           &  752740.109  &  752740.109  &  32.4266380  & 9.472784e-07\\\\\n",
       "\tpctwhite &  1           &    6424.408  &    6424.408  &   0.2767515  & 6.014801e-01\\\\\n",
       "\tpcths &  1           &    5669.088  &    5669.088  &   0.2442137  & 6.236374e-01\\\\\n",
       "\tpoverty &  1           &  148151.746  &  148151.746  &   6.3821005  & 1.520059e-02\\\\\n",
       "\tsingle &  1           &  153890.638  &  153890.638  &   6.6293213  & 1.347185e-02\\\\\n",
       "\tResiduals & 44           & 1021399.898  &   23213.634  &          NA  &           NA\\\\\n",
       "\\end{tabular}\n"
      ],
      "text/markdown": [
       "\n",
       "| <!--/--> | Df | Sum Sq | Mean Sq | F value | Pr(>F) | \n",
       "|---|---|---|---|---|---|---|\n",
       "| murder |  1           | 7640198.858  | 7640198.858  | 329.1254976  | 4.774083e-22 | \n",
       "| pctmetro |  1           |  752740.109  |  752740.109  |  32.4266380  | 9.472784e-07 | \n",
       "| pctwhite |  1           |    6424.408  |    6424.408  |   0.2767515  | 6.014801e-01 | \n",
       "| pcths |  1           |    5669.088  |    5669.088  |   0.2442137  | 6.236374e-01 | \n",
       "| poverty |  1           |  148151.746  |  148151.746  |   6.3821005  | 1.520059e-02 | \n",
       "| single |  1           |  153890.638  |  153890.638  |   6.6293213  | 1.347185e-02 | \n",
       "| Residuals | 44           | 1021399.898  |   23213.634  |          NA  |           NA | \n",
       "\n",
       "\n"
      ],
      "text/plain": [
       "          Df Sum Sq      Mean Sq     F value     Pr(>F)      \n",
       "murder     1 7640198.858 7640198.858 329.1254976 4.774083e-22\n",
       "pctmetro   1  752740.109  752740.109  32.4266380 9.472784e-07\n",
       "pctwhite   1    6424.408    6424.408   0.2767515 6.014801e-01\n",
       "pcths      1    5669.088    5669.088   0.2442137 6.236374e-01\n",
       "poverty    1  148151.746  148151.746   6.3821005 1.520059e-02\n",
       "single     1  153890.638  153890.638   6.6293213 1.347185e-02\n",
       "Residuals 44 1021399.898   23213.634          NA           NA"
      ]
     },
     "metadata": {},
     "output_type": "display_data"
    }
   ],
   "source": [
    "anova(ols)"
   ]
  },
  {
   "cell_type": "code",
   "execution_count": 49,
   "metadata": {},
   "outputs": [],
   "source": [
    "ols1 <- rlm(crime ~ murder + pctmetro, cdata, psi = psi.bisquare)"
   ]
  },
  {
   "cell_type": "code",
   "execution_count": 50,
   "metadata": {},
   "outputs": [
    {
     "data": {
      "text/plain": [
       "\n",
       "Call: rlm(formula = crime ~ murder + pctmetro, data = cdata, psi = psi.bisquare)\n",
       "Residuals:\n",
       "    Min      1Q  Median      3Q     Max \n",
       "-274.89 -103.42   16.36   87.14  449.20 \n",
       "\n",
       "Coefficients:\n",
       "            Value    Std. Error t value \n",
       "(Intercept) -75.3501  76.7854    -0.9813\n",
       "murder       32.5750   2.3386    13.9291\n",
       "pctmetro      5.8305   1.1415     5.1077\n",
       "\n",
       "Residual standard error: 144.5 on 48 degrees of freedom"
      ]
     },
     "metadata": {},
     "output_type": "display_data"
    }
   ],
   "source": [
    "summary(ols1)"
   ]
  },
  {
   "cell_type": "code",
   "execution_count": 51,
   "metadata": {},
   "outputs": [
    {
     "data": {
      "text/html": [
       "<table>\n",
       "<thead><tr><th></th><th scope=col>Df</th><th scope=col>Sum Sq</th><th scope=col>Mean Sq</th><th scope=col>F value</th><th scope=col>Pr(&gt;F)</th></tr></thead>\n",
       "<tbody>\n",
       "\t<tr><th scope=row>murder</th><td> 1       </td><td>7000914.3</td><td>7000914.3</td><td>NA       </td><td>NA       </td></tr>\n",
       "\t<tr><th scope=row>pctmetro</th><td> 1       </td><td> 667164.7</td><td> 667164.7</td><td>NA       </td><td>NA       </td></tr>\n",
       "\t<tr><th scope=row>Residuals</th><td>NA       </td><td>1341844.2</td><td>       NA</td><td>NA       </td><td>NA       </td></tr>\n",
       "</tbody>\n",
       "</table>\n"
      ],
      "text/latex": [
       "\\begin{tabular}{r|lllll}\n",
       "  & Df & Sum Sq & Mean Sq & F value & Pr(>F)\\\\\n",
       "\\hline\n",
       "\tmurder &  1        & 7000914.3 & 7000914.3 & NA        & NA       \\\\\n",
       "\tpctmetro &  1        &  667164.7 &  667164.7 & NA        & NA       \\\\\n",
       "\tResiduals & NA        & 1341844.2 &        NA & NA        & NA       \\\\\n",
       "\\end{tabular}\n"
      ],
      "text/markdown": [
       "\n",
       "| <!--/--> | Df | Sum Sq | Mean Sq | F value | Pr(>F) | \n",
       "|---|---|---|\n",
       "| murder |  1        | 7000914.3 | 7000914.3 | NA        | NA        | \n",
       "| pctmetro |  1        |  667164.7 |  667164.7 | NA        | NA        | \n",
       "| Residuals | NA        | 1341844.2 |        NA | NA        | NA        | \n",
       "\n",
       "\n"
      ],
      "text/plain": [
       "          Df Sum Sq    Mean Sq   F value Pr(>F)\n",
       "murder     1 7000914.3 7000914.3 NA      NA    \n",
       "pctmetro   1  667164.7  667164.7 NA      NA    \n",
       "Residuals NA 1341844.2        NA NA      NA    "
      ]
     },
     "metadata": {},
     "output_type": "display_data"
    }
   ],
   "source": [
    "anova(ols1)"
   ]
  },
  {
   "cell_type": "code",
   "execution_count": 52,
   "metadata": {},
   "outputs": [
    {
     "data": {
      "image/png": "[encoded data removed]",
      "text/plain": [
       "Plot with title \"\""
      ]
     },
     "metadata": {},
     "output_type": "display_data"
    }
   ],
   "source": [
    "opar <- par(mfrow = c(2,2), oma=c(0,0,1.1,0)) # grafikleri 2ye 2 lik matrix şeklinde gösterdi. oma is lm(crime....) başlığını yazdı\n",
    "plot(ols1, las=1)"
   ]
  },
  {
   "cell_type": "code",
   "execution_count": 53,
   "metadata": {},
   "outputs": [
    {
     "data": {
      "text/html": [
       "<table>\n",
       "<thead><tr><th></th><th scope=col>sid</th><th scope=col>state</th><th scope=col>crime</th><th scope=col>murder</th><th scope=col>pctmetro</th><th scope=col>pctwhite</th><th scope=col>pcths</th><th scope=col>poverty</th><th scope=col>single</th><th scope=col>d1</th><th scope=col>r</th></tr></thead>\n",
       "<tbody>\n",
       "\t<tr><th scope=row>1</th><td> 1       </td><td>ak       </td><td> 761     </td><td> 9.0     </td><td> 41.8    </td><td>75.2     </td><td>86.6     </td><td> 9.1     </td><td>14.3     </td><td>0.1210560</td><td>NA       </td></tr>\n",
       "\t<tr><th scope=row>9</th><td> 9       </td><td>fl       </td><td>1206     </td><td> 8.9     </td><td> 93.0    </td><td>83.5     </td><td>74.4     </td><td>17.8     </td><td>10.6     </td><td>0.1799365</td><td>NA       </td></tr>\n",
       "\t<tr><th scope=row>11</th><td>11       </td><td>hi       </td><td> 261     </td><td> 3.8     </td><td> 74.7    </td><td>40.9     </td><td>80.1     </td><td> 8.0     </td><td> 9.1     </td><td>0.8867658</td><td>NA       </td></tr>\n",
       "\t<tr><th scope=row>25</th><td>25       </td><td>ms       </td><td> 434     </td><td>13.5     </td><td> 30.7    </td><td>63.3     </td><td>64.3     </td><td>24.7     </td><td>14.7     </td><td>0.4856362</td><td>NA       </td></tr>\n",
       "\t<tr><th scope=row>51</th><td>51       </td><td>dc       </td><td>2922     </td><td>78.5     </td><td>100.0    </td><td>31.8     </td><td>73.1     </td><td>26.4     </td><td>22.1     </td><td>5.1542267</td><td>NA       </td></tr>\n",
       "</tbody>\n",
       "</table>\n"
      ],
      "text/latex": [
       "\\begin{tabular}{r|lllllllllll}\n",
       "  & sid & state & crime & murder & pctmetro & pctwhite & pcths & poverty & single & d1 & r\\\\\n",
       "\\hline\n",
       "\t1 &  1        & ak        &  761      &  9.0      &  41.8     & 75.2      & 86.6      &  9.1      & 14.3      & 0.1210560 & NA       \\\\\n",
       "\t9 &  9        & fl        & 1206      &  8.9      &  93.0     & 83.5      & 74.4      & 17.8      & 10.6      & 0.1799365 & NA       \\\\\n",
       "\t11 & 11        & hi        &  261      &  3.8      &  74.7     & 40.9      & 80.1      &  8.0      &  9.1      & 0.8867658 & NA       \\\\\n",
       "\t25 & 25        & ms        &  434      & 13.5      &  30.7     & 63.3      & 64.3      & 24.7      & 14.7      & 0.4856362 & NA       \\\\\n",
       "\t51 & 51        & dc        & 2922      & 78.5      & 100.0     & 31.8      & 73.1      & 26.4      & 22.1      & 5.1542267 & NA       \\\\\n",
       "\\end{tabular}\n"
      ],
      "text/markdown": [
       "\n",
       "| <!--/--> | sid | state | crime | murder | pctmetro | pctwhite | pcths | poverty | single | d1 | r | \n",
       "|---|---|---|---|---|\n",
       "| 1 |  1        | ak        |  761      |  9.0      |  41.8     | 75.2      | 86.6      |  9.1      | 14.3      | 0.1210560 | NA        | \n",
       "| 9 |  9        | fl        | 1206      |  8.9      |  93.0     | 83.5      | 74.4      | 17.8      | 10.6      | 0.1799365 | NA        | \n",
       "| 11 | 11        | hi        |  261      |  3.8      |  74.7     | 40.9      | 80.1      |  8.0      |  9.1      | 0.8867658 | NA        | \n",
       "| 25 | 25        | ms        |  434      | 13.5      |  30.7     | 63.3      | 64.3      | 24.7      | 14.7      | 0.4856362 | NA        | \n",
       "| 51 | 51        | dc        | 2922      | 78.5      | 100.0     | 31.8      | 73.1      | 26.4      | 22.1      | 5.1542267 | NA        | \n",
       "\n",
       "\n"
      ],
      "text/plain": [
       "   sid state crime murder pctmetro pctwhite pcths poverty single d1        r \n",
       "1   1  ak     761   9.0    41.8    75.2     86.6   9.1    14.3   0.1210560 NA\n",
       "9   9  fl    1206   8.9    93.0    83.5     74.4  17.8    10.6   0.1799365 NA\n",
       "11 11  hi     261   3.8    74.7    40.9     80.1   8.0     9.1   0.8867658 NA\n",
       "25 25  ms     434  13.5    30.7    63.3     64.3  24.7    14.7   0.4856362 NA\n",
       "51 51  dc    2922  78.5   100.0    31.8     73.1  26.4    22.1   5.1542267 NA"
      ]
     },
     "metadata": {},
     "output_type": "display_data"
    }
   ],
   "source": [
    "d1 <- cooks.distance(ols)\n",
    "r <- stdres(ols1) # the standardized residuals\n",
    "a <- cbind(cdata, d1, r)\n",
    "a[d1 > 4/51, ]"
   ]
  },
  {
   "cell_type": "code",
   "execution_count": 62,
   "metadata": {},
   "outputs": [],
   "source": [
    "cdata = cdata[1:50 , ]"
   ]
  },
  {
   "cell_type": "code",
   "execution_count": 63,
   "metadata": {},
   "outputs": [
    {
     "data": {
      "text/plain": [
       "\n",
       "Call: rlm(formula = crime ~ murder + pctmetro, data = cdata, psi = psi.bisquare)\n",
       "Residuals:\n",
       "    Min      1Q  Median      3Q     Max \n",
       "-281.58  -91.19   11.98   79.37  449.66 \n",
       "\n",
       "Coefficients:\n",
       "            Value     Std. Error t value  \n",
       "(Intercept) -121.6463   70.8474    -1.7170\n",
       "murder        49.3282    5.6252     8.7692\n",
       "pctmetro       4.7200    1.0339     4.5651\n",
       "\n",
       "Residual standard error: 133 on 47 degrees of freedom"
      ]
     },
     "metadata": {},
     "output_type": "display_data"
    }
   ],
   "source": [
    "ols2 <- rlm(crime ~ murder + pctmetro, cdata, psi = psi.bisquare)\n",
    "summary(ols2)"
   ]
  },
  {
   "cell_type": "code",
   "execution_count": 64,
   "metadata": {},
   "outputs": [
    {
     "data": {
      "text/html": [
       "<table>\n",
       "<thead><tr><th></th><th scope=col>Df</th><th scope=col>Sum Sq</th><th scope=col>Mean Sq</th><th scope=col>F value</th><th scope=col>Pr(&gt;F)</th></tr></thead>\n",
       "<tbody>\n",
       "\t<tr><th scope=row>murder</th><td> 1       </td><td>2446114.9</td><td>2446114.9</td><td>NA       </td><td>NA       </td></tr>\n",
       "\t<tr><th scope=row>pctmetro</th><td> 1       </td><td> 396112.8</td><td> 396112.8</td><td>NA       </td><td>NA       </td></tr>\n",
       "\t<tr><th scope=row>Residuals</th><td>NA       </td><td>1137948.1</td><td>       NA</td><td>NA       </td><td>NA       </td></tr>\n",
       "</tbody>\n",
       "</table>\n"
      ],
      "text/latex": [
       "\\begin{tabular}{r|lllll}\n",
       "  & Df & Sum Sq & Mean Sq & F value & Pr(>F)\\\\\n",
       "\\hline\n",
       "\tmurder &  1        & 2446114.9 & 2446114.9 & NA        & NA       \\\\\n",
       "\tpctmetro &  1        &  396112.8 &  396112.8 & NA        & NA       \\\\\n",
       "\tResiduals & NA        & 1137948.1 &        NA & NA        & NA       \\\\\n",
       "\\end{tabular}\n"
      ],
      "text/markdown": [
       "\n",
       "| <!--/--> | Df | Sum Sq | Mean Sq | F value | Pr(>F) | \n",
       "|---|---|---|\n",
       "| murder |  1        | 2446114.9 | 2446114.9 | NA        | NA        | \n",
       "| pctmetro |  1        |  396112.8 |  396112.8 | NA        | NA        | \n",
       "| Residuals | NA        | 1137948.1 |        NA | NA        | NA        | \n",
       "\n",
       "\n"
      ],
      "text/plain": [
       "          Df Sum Sq    Mean Sq   F value Pr(>F)\n",
       "murder     1 2446114.9 2446114.9 NA      NA    \n",
       "pctmetro   1  396112.8  396112.8 NA      NA    \n",
       "Residuals NA 1137948.1        NA NA      NA    "
      ]
     },
     "metadata": {},
     "output_type": "display_data"
    }
   ],
   "source": [
    "anova(ols2)"
   ]
  },
  {
   "cell_type": "code",
   "execution_count": null,
   "metadata": {},
   "outputs": [],
   "source": []
  }
 ],
 "metadata": {
  "kernelspec": {
   "display_name": "R",
   "language": "R",
   "name": "ir"
  },
  "language_info": {
   "codemirror_mode": "r",
   "file_extension": ".r",
   "mimetype": "text/x-r-source",
   "name": "R",
   "pygments_lexer": "r",
   "version": "3.4.3"
  }
 },
 "nbformat": 4,
 "nbformat_minor": 2
}
