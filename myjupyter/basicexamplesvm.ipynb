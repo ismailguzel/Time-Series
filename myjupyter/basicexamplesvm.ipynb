{
 "cells": [
  {
   "cell_type": "markdown",
   "metadata": {},
   "source": [
    "#   Support Vector Machines"
   ]
  },
  {
   "cell_type": "markdown",
   "metadata": {},
   "source": [
    "Klasik istatistik, doğru modelin formunu bildiğini varsayıp amacı modelin parametrelerini belirlemek olarak görür.\n",
    "\n",
    "\n",
    "İstatistiksel öğrenme ise modelin formunun bilinmediğini kabul eder ve doğru olabiliecek modeller arasından \n",
    "en iyi modeli belirlemeye çalışır.\n",
    "\n",
    "Why classification ?\n",
    "- Simplfy the datas\n",
    "- Forecasting"
   ]
  },
  {
   "cell_type": "markdown",
   "metadata": {},
   "source": [
    "## Classifications"
   ]
  },
  {
   "cell_type": "markdown",
   "metadata": {},
   "source": [
    "* Decision Trees\n",
    "\n",
    "* Bayesian Networks\n",
    " \n",
    "* K Nearest Neighbours\n",
    "\n",
    "* Artificial Neural Networks\n",
    "\n",
    "* Random Forest\n",
    "* #### Support Vector Machines"
   ]
  },
  {
   "cell_type": "markdown",
   "metadata": {},
   "source": [
    "##  SVM"
   ]
  },
  {
   "cell_type": "markdown",
   "metadata": {},
   "source": [
    "- SVM is the method of supervised learning algorithms that analyze date used for classification and regression analysis. \n",
    "SVR(support vector regression) is used for regression.\n",
    "- Nonparametric Classification\n",
    "- Dağılım hakkında herhangi bir ön bilgi veya varsayım yoktur.\n",
    "- **Linear** : Verileri ayırabilecek sonsuz sayıda doğru içerisinden margini en yüksek olan doğrunun seçilmesi işlemidir.\n",
    "- **Nonlinear** : Doğrusal olmayan mapping ile orjinal çalışma verisi yüksek boyuta dönüştürülür. Verinin taşındığı yeni boyutta margini en uygun ayırıcı hyperplane araştıma işlemidir."
   ]
  },
  {
   "cell_type": "markdown",
   "metadata": {},
   "source": [
    "**Hyperplane**\n",
    "\n",
    " A linear equation in four variables has the form \n",
    "    $$ a_1 x_1 + a_2 x_2 +a_3 x_3 +a_4 x_4 =b $$\n",
    "    $$ <w,x>=b$$\n",
    "    \n",
    "where $a_{i}$'s are constants. Such an equation defines a *hyperplane* in $\\mathbb{R}^{4}$.\n",
    "   \n",
    "The vector $w=(a_1,a_2,a_3,a_4)$ is *normal* vector of hyperplane"
   ]
  },
  {
   "cell_type": "markdown",
   "metadata": {},
   "source": [
    "The problem of finding the optimal hyperplane is an optimization problem and can be solved by optimization techniques (**Lagrange Multiplier**)"
   ]
  },
  {
   "cell_type": "code",
   "execution_count": 1,
   "metadata": {},
   "outputs": [],
   "source": [
    "import numpy as np  # numpy(LinearAlgebra) kütüphanesini np olarak yazıp çağırcaz\n",
    "import matplotlib.pyplot as plt  #görüntüleme için kullanıyoruz,svm için gerekli değil\n",
    "from matplotlib import style \n",
    "style.use(\"ggplot\")#görüntülemede grit şekilnde göstermesi için\n",
    "from sklearn import svm\n"
   ]
  },
  {
   "cell_type": "code",
   "execution_count": 2,
   "metadata": {},
   "outputs": [],
   "source": [
    "x = np.array([[1,2],\n",
    "             [5,8],\n",
    "             [1.5,1.8],\n",
    "             [8,8],\n",
    "             [1,0.6],\n",
    "             [9,11]])\n",
    "y = [1,0,1,0,1,0]"
   ]
  },
  {
   "cell_type": "code",
   "execution_count": 3,
   "metadata": {},
   "outputs": [
    {
     "data": {
      "text/plain": [
       "SVC(C=1, cache_size=200, class_weight=None, coef0=0.0,\n",
       "  decision_function_shape='ovr', degree=3, gamma='auto', kernel='linear',\n",
       "  max_iter=-1, probability=False, random_state=None, shrinking=True,\n",
       "  tol=0.001, verbose=False)"
      ]
     },
     "execution_count": 3,
     "metadata": {},
     "output_type": "execute_result"
    }
   ],
   "source": [
    "clf = svm.SVC(kernel='linear', C = 1)\n",
    "clf.fit(x,y)"
   ]
  },
  {
   "cell_type": "code",
   "execution_count": 9,
   "metadata": {},
   "outputs": [
    {
     "name": "stdout",
     "output_type": "stream",
     "text": [
      "[-0.1380943  -0.24462418]\n"
     ]
    },
    {
     "data": {
      "image/png": "[encoded data removed]",
      "text/plain": [
       "<matplotlib.figure.Figure at 0x24e050ec518>"
      ]
     },
     "metadata": {},
     "output_type": "display_data"
    }
   ],
   "source": [
    "w = clf.coef_[0]   #  svm paketi çalıştı ve bize optimal hyperplane nin katsayılarını buldu\n",
    "print(w)           # the normal of optimal hyperplane,(a1,a2)\n",
    "\n",
    "x1 = np.linspace(0,10) #x-axsisdeki sayılar\n",
    "x2 = (-w[0] / w[1] ) * x1 - clf.intercept_[0] / w[1]   # a1x1+a2x2+b=0 denkleminde bilinler ile x2 hesaplandı.\n",
    "\n",
    "h0 = plt.plot(x1, x2, 'g-', label=\"non weighted div\") #elimizdekinoktaları çizdiriyoruz \n",
    "                                                      #'g-' çizgileri yeşil göstermesi için 'k*' olabilir\n",
    "\n",
    "plt.scatter(x[:, 0], x[:, 1], c = y) #coordinate system (x,y,z)-->(X[:,0],X[:,1],X[:,2]) \n",
    "plt.legend()#coordinate de label yazdırıyor. non weighted div gibi\n",
    "plt.show()"
   ]
  },
  {
   "cell_type": "markdown",
   "metadata": {},
   "source": [
    "Buradaki çalışmalar aşağıdaki sayfadan yararlanılarak hazırlanmıştır.\n",
    "\n",
    "* https://jakevdp.github.io/PythonDataScienceHandbook/05.07-support-vector-machines.html\n",
    "\n",
    "* https://www.svm-tutorial.com/"
   ]
  }
 ],
 "metadata": {
  "kernelspec": {
   "display_name": "Python 3",
   "language": "python",
   "name": "python3"
  },
  "language_info": {
   "codemirror_mode": {
    "name": "ipython",
    "version": 3
   },
   "file_extension": ".py",
   "mimetype": "text/x-python",
   "name": "python",
   "nbconvert_exporter": "python",
   "pygments_lexer": "ipython3",
   "version": "3.6.5"
  }
 },
 "nbformat": 4,
 "nbformat_minor": 2
}
